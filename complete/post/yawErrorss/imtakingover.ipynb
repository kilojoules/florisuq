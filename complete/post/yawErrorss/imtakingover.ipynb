{
 "cells": [
  {
   "cell_type": "markdown",
   "metadata": {},
   "source": [
    "# analyze 30 s data sets"
   ]
  },
  {
   "cell_type": "markdown",
   "metadata": {},
   "source": [
    "### Condensed version of things for Jullian"
   ]
  },
  {
   "cell_type": "code",
   "execution_count": 1,
   "metadata": {},
   "outputs": [],
   "source": [
    "%matplotlib inline\n",
    "import os\n",
    "#import computeDEL\n",
    "import matplotlib.pyplot as plt\n",
    "import numpy as np\n",
    "from scipy import signal\n",
    "import matplotlib.gridspec as gridspec\n",
    "from matplotlib import rcParams\n",
    "rcParams.update({'figure.autolayout': True})\n",
    "import scipy.io as spio\n",
    "#import wrapFunctions #import wrap180, wrap360, wrapList\n",
    "import glob\n",
    "import pandas as pd\n",
    "#from ggplot import *\n",
    "from scipy import stats"
   ]
  },
  {
   "cell_type": "markdown",
   "metadata": {},
   "source": [
    "## Parameters"
   ]
  },
  {
   "cell_type": "code",
   "execution_count": 2,
   "metadata": {},
   "outputs": [],
   "source": [
    "dataFolder = 'data30'\n",
    "dataFile  = os.path.join(dataFolder,'dataFile.csv')\n",
    "\n",
    "lowTurb = False # Limit by TI?\n",
    "tiLim = 6. # % TI to limit to "
   ]
  },
  {
   "cell_type": "markdown",
   "metadata": {},
   "source": [
    "## Load the data file"
   ]
  },
  {
   "cell_type": "code",
   "execution_count": 3,
   "metadata": {},
   "outputs": [],
   "source": [
    "df = pd.read_csv(dataFile)"
   ]
  },
  {
   "cell_type": "markdown",
   "metadata": {},
   "source": [
    "## Analysis"
   ]
  },
  {
   "cell_type": "code",
   "execution_count": 4,
   "metadata": {},
   "outputs": [],
   "source": [
    "# Add a channel which is cut wind speed and direction\n",
    "binEdge = np.arange(3.,20.)\n",
    "binEdge = np.arange(3.,16.)\n",
    "df['windRange'] = pd.cut(df.WS1_90m_mean,binEdge,right=True)\n",
    "\n",
    "binEdge = np.arange(-45.,55.,5) - 2.5\n",
    "binLabel = range(-45,50,5)\n",
    "#df['dirBin'] = pd.cut(df.apparantVane_mean,binEdge,right=True,labels=binLabel)\n",
    "df['dirBin'] = pd.cut(df.WD_Nacelle_mean - 180.,binEdge,right=True,labels=binLabel)"
   ]
  },
  {
   "cell_type": "code",
   "execution_count": 5,
   "metadata": {},
   "outputs": [],
   "source": [
    "# Limit by TI if told to:\n",
    "if lowTurb:\n",
    "    df['TI'] = 100. * df.WS1_90m_std / df.WS1_90m_mean\n",
    "    df = df[df.TI < tiLim]\n",
    "    df = df.drop('TI',axis=1)"
   ]
  },
  {
   "cell_type": "code",
   "execution_count": 6,
   "metadata": {},
   "outputs": [
    {
     "data": {
      "text/plain": [
       "(11710, 132)"
      ]
     },
     "execution_count": 6,
     "metadata": {},
     "output_type": "execute_result"
    }
   ],
   "source": [
    "# Limit to regions with low nacelle error for first plot, which compares the measurement\n",
    "# between turbine and met mast\n",
    "dfTemp = df[ abs(df.WD_Nacelle_mean - 180.) < 5.]\n",
    "dfTemp = dfTemp[ dfTemp.ApparentPower_mean > 150.] # Make sure some power being produced\n",
    "dfTemp.shape"
   ]
  },
  {
   "cell_type": "code",
   "execution_count": 7,
   "metadata": {
    "scrolled": false
   },
   "outputs": [
    {
     "name": "stderr",
     "output_type": "stream",
     "text": [
      "/Users/jquick/myenv/lib/python3.6/site-packages/matplotlib/axes/_axes.py:6521: MatplotlibDeprecationWarning: \n",
      "The 'normed' kwarg was deprecated in Matplotlib 2.1 and will be removed in 3.1. Use 'density' instead.\n",
      "  alternative=\"'density'\", removal=\"3.1\")\n"
     ]
    },
    {
     "name": "stdout",
     "output_type": "stream",
     "text": [
      "cauchy (-0.5021542267864816, 3.005080296164434)\n",
      "t (3.7695485671609057, -0.24433438898097598, 4.334646765128653)\n",
      "laplace (-2.0594355022850842e-17, 4.411649063578752)\n"
     ]
    },
    {
     "name": "stderr",
     "output_type": "stream",
     "text": [
      "/Users/jquick/myenv/lib/python3.6/site-packages/scipy-1.2.0-py3.6-macosx-10.11-x86_64.egg/scipy/stats/_continuous_distns.py:514: RuntimeWarning: invalid value encountered in sqrt\n",
      "  sk = 2*(b-a)*np.sqrt(a + b + 1) / (a + b + 2) / np.sqrt(a*b)\n",
      "/Users/jquick/myenv/lib/python3.6/site-packages/scipy-1.2.0-py3.6-macosx-10.11-x86_64.egg/scipy/optimize/minpack.py:162: RuntimeWarning: The iteration is not making good progress, as measured by the \n",
      "  improvement from the last ten iterations.\n",
      "  warnings.warn(msg, RuntimeWarning)\n"
     ]
    },
    {
     "name": "stdout",
     "output_type": "stream",
     "text": [
      "beta (2981.6004805186203, 44913.81202790687, -345.480737310068, 5549.684695511145)\n",
      "norm (-2.0270453369281632e-17, 6.12844458875185)\n",
      "6.12844458875185\n"
     ]
    },
    {
     "name": "stderr",
     "output_type": "stream",
     "text": [
      "/Users/jquick/myenv/lib/python3.6/site-packages/matplotlib/figure.py:2366: UserWarning: This figure includes Axes that are not compatible with tight_layout, so results might be incorrect.\n",
      "  warnings.warn(\"This figure includes Axes that are not compatible \"\n"
     ]
    },
    {
     "data": {
      "image/png": "[encoded data removed]",
      "text/plain": [
       "<Figure size 288x252 with 1 Axes>"
      ]
     },
     "metadata": {
      "needs_background": "light"
     },
     "output_type": "display_data"
    }
   ],
   "source": [
    "dfTemp['turbinePos'] = dfTemp.Yaw_Encoder_mean + (df.WD_Nacelle_mean - 180.)\n",
    "fig, ax = plt.subplots(figsize=(4, 3.5))\n",
    "unclearnerrs = dfTemp.WD1_87m_mean-dfTemp.turbinePos\n",
    "yawerrs = unclearnerrs[~(np.abs(unclearnerrs)>30)]\n",
    "\n",
    "SIZE = 12\n",
    "\n",
    "# subtract mean\n",
    "yawerrs -= np.mean(yawerrs)\n",
    "\n",
    "ax.hist(yawerrs, bins=300, normed=1, label='data')\n",
    "x = np.arange(-30, 30, .01)\n",
    "\n",
    "distrNameList = ['cauchy', 't', 'laplace', 'beta', 'norm']\n",
    "for distrName in distrNameList:\n",
    "    distr = getattr(stats.distributions, distrName)\n",
    "    param = distr.fit(yawerrs)\n",
    "    pdf = distr.pdf(x, *param)\n",
    "    print(distrName, param)\n",
    "    ax.plot(x, pdf, lw=3, label=distrName)\n",
    "\n",
    "ax.set_xlim([-25,25])\n",
    "# ax.axvline(yawerrs.mean(), lw=2, c='k')\n",
    "ax.set_xlabel(\"Yaw Position Error\" r\" (degrees)\", size=SIZE)\n",
    "ax.set_ylabel(\"Probability\", size=SIZE)\n",
    "ax.set_yscale('log')\n",
    "plt.legend(prop={'size':SIZE - 2})\n",
    "print (np.std(yawerrs))\n",
    "plt.savefig('yawErrorFits.png', dpi=600)"
   ]
  },
  {
   "cell_type": "code",
   "execution_count": 8,
   "metadata": {},
   "outputs": [],
   "source": [
    "import numpy as np\n",
    "from floris.floris import Floris\n",
    "from copy import deepcopy\n",
    "from floris.visualization import VisualizationManager\n",
    "import matplotlib\n",
    "import matplotlib.pyplot as plt\n",
    "%matplotlib inline"
   ]
  },
  {
   "cell_type": "code",
   "execution_count": 16,
   "metadata": {},
   "outputs": [
    {
     "name": "stdout",
     "output_type": "stream",
     "text": [
      "cauchy (-0.5021542267864816, 3.005080296164434)\n",
      "t (3.7695485671609057, -0.24433438898097598, 4.334646765128653)\n",
      "laplace (-2.0594355022850842e-17, 4.411649063578752)\n",
      "beta (2981.6004805186203, 44913.81202790687, -345.480737310068, 5549.684695511145)\n",
      "norm (-2.0270453369281632e-17, 6.12844458875185)\n",
      "6.12844458875185\n"
     ]
    },
    {
     "data": {
      "image/png": "[encoded data removed]",
      "text/plain": [
       "<Figure size 216x165.6 with 1 Axes>"
      ]
     },
     "metadata": {
      "needs_background": "light"
     },
     "output_type": "display_data"
    }
   ],
   "source": [
    "dfTemp['turbinePos'] = dfTemp.Yaw_Encoder_mean + (df.WD_Nacelle_mean - 180.)\n",
    "fig, ax = plt.subplots(figsize=(3, 2.3))\n",
    "# plt.subplots_adjust(wspace=3.5)\n",
    "\n",
    "unclearnerrs = dfTemp.WD1_87m_mean-dfTemp.turbinePos\n",
    "yawerrs = unclearnerrs[~(np.abs(unclearnerrs)>30)]\n",
    "\n",
    "SIZE = 9\n",
    "\n",
    "font = {'size'   : SIZE}\n",
    "matplotlib.rc('font', **font)\n",
    "\n",
    "# subtract mean\n",
    "yawerrs -= np.mean(yawerrs)\n",
    "\n",
    "ax.hist(yawerrs, bins=40, normed=1, label='Data', facecolor='white', edgecolor='k')\n",
    "x = np.arange(-30, 30, .01)\n",
    "\n",
    "distrNameList = ['cauchy', 't', 'laplace', 'beta', 'norm']\n",
    "namestoprint = {'cauchy':'Cauchy', 't':'Student T', 'laplace': 'Laplace', 'beta':'Beta', 'norm':\"Gaussian\",'gamma':'Gamma'}\n",
    "colors = plt.cm.viridis(np.linspace(0, 1, len(distrNameList)))\n",
    "for ii, distrName in enumerate(distrNameList):\n",
    "    distr = getattr(stats.distributions, distrName)\n",
    "    param = distr.fit(yawerrs)\n",
    "    pdf = distr.pdf(x, *param)\n",
    "    print(distrName, param)\n",
    "    ax.plot(x, pdf, lw=2, label=namestoprint[distrName], c=colors[ii])\n",
    "\n",
    "ax.set_xlim([-25,25])\n",
    "#ax.set_xlim([-30, 30])\n",
    "# ax.axvline(yawerrs.mean(), lw=2, c='k')\n",
    "ax.set_xlabel(\"Yaw position error\" r\" (degrees)\", size=SIZE)\n",
    "ax.set_ylabel(\"Probability\", size=SIZE)\n",
    "ax.set_yscale('log')\n",
    "ax.set_ylim(1e-4, 5e-1)\n",
    "ax.legend(prop={'size':SIZE - 3}, loc=\"upper left\", bbox_to_anchor=(.04, 1))\n",
    "print (np.std(yawerrs))\n",
    "plt.savefig('yawErrorFits')\n",
    "\n"
   ]
  },
  {
   "cell_type": "code",
   "execution_count": 10,
   "metadata": {},
   "outputs": [
    {
     "name": "stdout",
     "output_type": "stream",
     "text": [
      "(-2.0594355022850842e-17, 4.411649063578752)\n"
     ]
    },
    {
     "name": "stderr",
     "output_type": "stream",
     "text": [
      "/Users/jquick/myenv/lib/python3.6/site-packages/matplotlib/figure.py:2366: UserWarning: This figure includes Axes that are not compatible with tight_layout, so results might be incorrect.\n",
      "  warnings.warn(\"This figure includes Axes that are not compatible \"\n"
     ]
    },
    {
     "data": {
      "image/png": "[encoded data removed]",
      "text/plain": [
       "<Figure size 432x288 with 1 Axes>"
      ]
     },
     "metadata": {
      "needs_background": "light"
     },
     "output_type": "display_data"
    }
   ],
   "source": [
    "distrName = 'laplace'\n",
    "x = np.arange(-30, 30, .01)\n",
    "distr = getattr(stats.distributions, distrName)\n",
    "param = distr.fit(yawerrs)\n",
    "print(param)\n",
    "pdf = distr.pdf(x, *param)\n",
    "plt.plot(x, pdf, lw=2, label=r'$\\nu$ =%f' % param[1])\n",
    "plt.yscale('log')\n",
    "#plt.plot(x, distr.pdf(x, 9.579974794390509e-17, 15), c='g')\n",
    "plt.plot(x, distr.pdf(x, 9.579974794390509e-17, 5), c='k')\n",
    "#plt.plot(x, distr.pdf(x, 9.579974794390509e-17, 0.2), c='r')\n",
    "plt.legend(loc='upper left', prop={'size':15})\n",
    "plt.savefig('hey')"
   ]
  },
  {
   "cell_type": "code",
   "execution_count": 11,
   "metadata": {},
   "outputs": [
    {
     "name": "stderr",
     "output_type": "stream",
     "text": [
      "/Users/jquick/myenv/lib/python3.6/site-packages/matplotlib/figure.py:2366: UserWarning: This figure includes Axes that are not compatible with tight_layout, so results might be incorrect.\n",
      "  warnings.warn(\"This figure includes Axes that are not compatible \"\n",
      "/Users/jquick/myenv/lib/python3.6/site-packages/matplotlib/figure.py:2366: UserWarning: This figure includes Axes that are not compatible with tight_layout, so results might be incorrect.\n",
      "  warnings.warn(\"This figure includes Axes that are not compatible \"\n"
     ]
    },
    {
     "data": {
      "image/png": "[encoded data removed]",
      "text/plain": [
       "<Figure size 432x288 with 1 Axes>"
      ]
     },
     "metadata": {
      "needs_background": "light"
     },
     "output_type": "display_data"
    }
   ],
   "source": [
    "x = np.arange(-30, 30, .01)\n",
    "plt.plot(x, stats.norm.pdf(x, 0, 5), label=r'$\\sigma=5$', c='orange')\n",
    "plt.plot(x, stats.laplace.pdf(x, 0, 5), label=r'$\\nu=5$', c='green')\n",
    "#plt.plot(x, stats.norm.pdf(x, 0, 2), label=r'$\\sigma=2$', c='orange', ls='--')\n",
    "#plt.plot(x, stats.laplace.pdf(x, 0, 2), label=r'$\\nu=2$', c='green', ls='--')\n",
    "plt.legend()\n",
    "plt.xlabel('yaw position (degrees)')\n",
    "plt.ylabel('probability densitiy')\n",
    "#plt.yscale('log')\n",
    "plt.savefig('/Users/jquick/Downloads/diffff')\n"
   ]
  },
  {
   "cell_type": "code",
   "execution_count": 12,
   "metadata": {},
   "outputs": [
    {
     "ename": "NameError",
     "evalue": "name 'cp' is not defined",
     "output_type": "error",
     "traceback": [
      "\u001b[0;31m---------------------------------------------------------------------------\u001b[0m",
      "\u001b[0;31mNameError\u001b[0m                                 Traceback (most recent call last)",
      "\u001b[0;32m<ipython-input-12-fdc181aab1f9>\u001b[0m in \u001b[0;36m<module>\u001b[0;34m\u001b[0m\n\u001b[0;32m----> 1\u001b[0;31m distribution = cp.J(\n\u001b[0m\u001b[1;32m      2\u001b[0m  \u001b[0mcp\u001b[0m\u001b[0;34m.\u001b[0m\u001b[0mNormal\u001b[0m\u001b[0;34m(\u001b[0m\u001b[0;36m0.\u001b[0m\u001b[0;34m,\u001b[0m \u001b[0;36m1\u001b[0m\u001b[0;34m)\u001b[0m\u001b[0;34m,\u001b[0m\u001b[0;34m\u001b[0m\u001b[0m\n\u001b[1;32m      3\u001b[0m  cp.Normal(0., 1))\n\u001b[1;32m      4\u001b[0m \u001b[0;34m\u001b[0m\u001b[0m\n\u001b[1;32m      5\u001b[0m \u001b[0;31m#samples = distribution.sample(10, rule='C')\u001b[0m\u001b[0;34m\u001b[0m\u001b[0;34m\u001b[0m\u001b[0m\n",
      "\u001b[0;31mNameError\u001b[0m: name 'cp' is not defined"
     ]
    }
   ],
   "source": [
    "distribution = cp.J(\n",
    " cp.Normal(0., 1),\n",
    " cp.Normal(0., 1))\n",
    "\n",
    "#samples = distribution.sample(10, rule='C')\n",
    "samples = cp.generate_samples(10, domain=[[-60, -60], [60, 60]], rule='C')\n",
    "plt.scatter(samples[0, :], samples[1, :], s=40)\n",
    "np.deg2rad(samples[1, :])"
   ]
  },
  {
   "cell_type": "code",
   "execution_count": 57,
   "metadata": {},
   "outputs": [
    {
     "data": {
      "image/png": "[encoded data removed]",
      "text/plain": [
       "<Figure size 288x180 with 2 Axes>"
      ]
     },
     "metadata": {
      "needs_background": "light"
     },
     "output_type": "display_data"
    }
   ],
   "source": [
    "fig, ax0 = plt.subplots(figsize=(4, 2.5))\n",
    "floris = Floris(\"example_input.json\")  \n",
    "s = floris.farm.turbines[0].power_thrust_table \n",
    "ax0.plot(s['wind_speed'], s['power'] * np.array(s['wind_speed']) ** 3 * floris.farm.air_density * np.pi * floris.farm.turbines[0].rotor_diameter ** 2 / 8 / 1e6, c='k')    \n",
    "ax2 = ax0.twinx()\n",
    "ax2.plot(s['wind_speed'], s['thrust'], ls='--', c='k')\n",
    "ax0.set_xlabel('Wind Speed (m/s)', size=SIZE)\n",
    "ax0.set_ylabel('Power (MW)', size=SIZE)\n",
    "ax0.set_xlim(0, 18)\n",
    "ax0.set_ylim(0, 6)\n",
    "ax2.set_ylim(0, 1.2)\n",
    "ax2.set_ylabel('Thrust Coefficient', size=SIZE)\n",
    "\n",
    "plt.savefig('powerCurve', dpi=600)"
   ]
  },
  {
   "cell_type": "code",
   "execution_count": 41,
   "metadata": {},
   "outputs": [
    {
     "data": {
      "text/plain": [
       "[1.10610965,\n",
       " 1.09515807,\n",
       " 1.0227122,\n",
       " 0.9196487,\n",
       " 0.8519047,\n",
       " 0.80328229,\n",
       " 0.76675469,\n",
       " 0.76209299,\n",
       " 0.76209299,\n",
       " 0.75083241,\n",
       " 0.67210674,\n",
       " 0.52188504,\n",
       " 0.43178758,\n",
       " 0.36443258,\n",
       " 0.31049874,\n",
       " 0.26696686,\n",
       " 0.22986909,\n",
       " 0.19961578,\n",
       " 0.17286245,\n",
       " 0.15081457,\n",
       " 0.13146666,\n",
       " 0.11475968,\n",
       " 0.10129584,\n",
       " 0.0880188,\n",
       " 0.07746819,\n",
       " 0.06878621,\n",
       " 0.05977061,\n",
       " 0.0]"
      ]
     },
     "execution_count": 41,
     "metadata": {},
     "output_type": "execute_result"
    }
   ],
   "source": [
    "s['thrust']"
   ]
  },
  {
   "cell_type": "code",
   "execution_count": 1,
   "metadata": {},
   "outputs": [
    {
     "ename": "NameError",
     "evalue": "name 'dfTemp' is not defined",
     "output_type": "error",
     "traceback": [
      "\u001b[0;31m---------------------------------------------------------------------------\u001b[0m",
      "\u001b[0;31mNameError\u001b[0m                                 Traceback (most recent call last)",
      "\u001b[0;32m<ipython-input-1-a4e4619cbf62>\u001b[0m in \u001b[0;36m<module>\u001b[0;34m()\u001b[0m\n\u001b[0;32m----> 1\u001b[0;31m \u001b[0mdfTemp\u001b[0m\u001b[0;34m[\u001b[0m\u001b[0;34m'turbinePos'\u001b[0m\u001b[0;34m]\u001b[0m \u001b[0;34m=\u001b[0m \u001b[0mdfTemp\u001b[0m\u001b[0;34m.\u001b[0m\u001b[0mYaw_Encoder_mean\u001b[0m \u001b[0;34m+\u001b[0m \u001b[0;34m(\u001b[0m\u001b[0mdf\u001b[0m\u001b[0;34m.\u001b[0m\u001b[0mWD_Nacelle_mean\u001b[0m \u001b[0;34m-\u001b[0m \u001b[0;36m180.\u001b[0m\u001b[0;34m)\u001b[0m\u001b[0;34m\u001b[0m\u001b[0m\n\u001b[0m\u001b[1;32m      2\u001b[0m \u001b[0mfig\u001b[0m\u001b[0;34m,\u001b[0m \u001b[0max\u001b[0m \u001b[0;34m=\u001b[0m \u001b[0mplt\u001b[0m\u001b[0;34m.\u001b[0m\u001b[0msubplots\u001b[0m\u001b[0;34m(\u001b[0m\u001b[0;34m)\u001b[0m\u001b[0;34m\u001b[0m\u001b[0m\n\u001b[1;32m      3\u001b[0m \u001b[0munclearnerrs\u001b[0m \u001b[0;34m=\u001b[0m \u001b[0mdfTemp\u001b[0m\u001b[0;34m.\u001b[0m\u001b[0mWD1_87m_mean\u001b[0m\u001b[0;34m-\u001b[0m\u001b[0mdfTemp\u001b[0m\u001b[0;34m.\u001b[0m\u001b[0mturbinePos\u001b[0m\u001b[0;34m\u001b[0m\u001b[0m\n\u001b[1;32m      4\u001b[0m \u001b[0myawerrs\u001b[0m \u001b[0;34m=\u001b[0m \u001b[0mdfTemp\u001b[0m\u001b[0;34m.\u001b[0m\u001b[0mapparantVane_mean\u001b[0m\u001b[0;34m\u001b[0m\u001b[0m\n\u001b[1;32m      5\u001b[0m \u001b[0;31m#yawerrs -= np.mean(yawerrs)\u001b[0m\u001b[0;34m\u001b[0m\u001b[0;34m\u001b[0m\u001b[0m\n",
      "\u001b[0;31mNameError\u001b[0m: name 'dfTemp' is not defined"
     ]
    }
   ],
   "source": [
    "dfTemp['turbinePos'] = dfTemp.Yaw_Encoder_mean + (df.WD_Nacelle_mean - 180.)\n",
    "fig, ax = plt.subplots()\n",
    "unclearnerrs = dfTemp.WD1_87m_mean-dfTemp.turbinePos\n",
    "yawerrs = dfTemp.apparantVane_mean\n",
    "#yawerrs -= np.mean(yawerrs)\n",
    "ax.hist(yawerrs, bins=300, normed=1, label='data')\n",
    "x = np.arange(-30, 30, .01)\n",
    "SIZE = 16\n",
    "\n",
    "distrNameList = ['cauchy', 't', 'laplace', 'beta', 'norm']\n",
    "for distrName in distrNameList:\n",
    "    distr = getattr(stats.distributions, distrName)\n",
    "    param = distr.fit(yawerrs)\n",
    "    pdf = distr.pdf(x, *param)\n",
    "    ax.plot(x, pdf, lw=3, label=distrName)\n",
    "\n",
    "ax.set_xlim([-30,30])\n",
    "ax.axvline(yawerrs.mean(), lw=2, c='k')\n",
    "ax.set_xlabel(\"Yaw Position Error\" r\" ($\\degree$)\", size=SIZE)\n",
    "ax.set_ylabel(\"Probability\", size=SIZE)\n",
    "plt.legend()\n",
    "print (np.std(yawerrs))"
   ]
  },
  {
   "cell_type": "code",
   "execution_count": 19,
   "metadata": {},
   "outputs": [
    {
     "data": {
      "text/plain": [
       "(3.5756671448147763, 9.354553594696222)"
      ]
     },
     "execution_count": 19,
     "metadata": {},
     "output_type": "execute_result"
    }
   ],
   "source": [
    "stats.norm.fit(dfTemp.apparantVane_mean)"
   ]
  },
  {
   "cell_type": "code",
   "execution_count": 23,
   "metadata": {},
   "outputs": [
    {
     "data": {
      "image/png": "[encoded data removed]",
      "text/plain": [
       "<Figure size 432x288 with 1 Axes>"
      ]
     },
     "metadata": {
      "needs_background": "light"
     },
     "output_type": "display_data"
    }
   ],
   "source": [
    "fig, ax = plt.subplots()\n",
    "ax.hist(dfTemp.apparantVane_mean , bins=500, normed=True, label=\"Observed\")\n",
    "ax.set_xlim([-30,30])\n",
    "#ax.axvline(2)\n",
    "import numpy\n",
    "x = np.arange(-30, 30, .1)\n",
    "ax.plot(x, stats.norm.pdf(x, *stats.norm.fit(dfTemp.apparantVane_mean)), lw=3, c='k', label=\"Fit\")\n",
    "ax.legend()\n",
    "ax.set_xlabel(\"Yaw Position Error\" r\" ($\\degree$)\")\n",
    "ax.set_ylabel(\"Probability\")\n",
    "plt.savefig(\"YawObsNREL.pdf\")"
   ]
  },
  {
   "cell_type": "code",
   "execution_count": 29,
   "metadata": {
    "scrolled": true
   },
   "outputs": [
    {
     "ename": "TypeError",
     "evalue": "__init__() takes from 1 to 2 positional arguments but 4 were given",
     "output_type": "error",
     "traceback": [
      "\u001b[0;31m---------------------------------------------------------------------------\u001b[0m",
      "\u001b[0;31mTypeError\u001b[0m                                 Traceback (most recent call last)",
      "\u001b[0;32m<ipython-input-29-8a7d1be396ca>\u001b[0m in \u001b[0;36m<module>\u001b[0;34m()\u001b[0m\n\u001b[1;32m      1\u001b[0m \u001b[0;32mimport\u001b[0m \u001b[0mchaospy\u001b[0m \u001b[0;32mas\u001b[0m \u001b[0mcp\u001b[0m\u001b[0;34m\u001b[0m\u001b[0m\n\u001b[1;32m      2\u001b[0m distribution = cp.J(\n\u001b[0;32m----> 3\u001b[0;31m  \u001b[0mcp\u001b[0m\u001b[0;34m.\u001b[0m\u001b[0mstudent_t\u001b[0m\u001b[0;34m(\u001b[0m\u001b[0;36m1.\u001b[0m\u001b[0;34m,\u001b[0m \u001b[0;36m0.\u001b[0m\u001b[0;34m,\u001b[0m \u001b[0;36m4.37\u001b[0m\u001b[0;34m)\u001b[0m\u001b[0;34m,\u001b[0m\u001b[0;34m\u001b[0m\u001b[0m\n\u001b[0m\u001b[1;32m      4\u001b[0m  cp.student_t(1., 0., 4.37))\n",
      "\u001b[0;31mTypeError\u001b[0m: __init__() takes from 1 to 2 positional arguments but 4 were given"
     ]
    }
   ],
   "source": [
    "import chaospy as cp\n",
    "distribution = cp.J(\n",
    " cp.student_t(1., 0., 4.37),\n",
    " cp.student_t(1., 0., 4.37))\n"
   ]
  },
  {
   "cell_type": "code",
   "execution_count": 11,
   "metadata": {},
   "outputs": [
    {
     "data": {
      "text/plain": [
       "['Acf',\n",
       " 'Ali_mikhail_haq',\n",
       " 'Alpha',\n",
       " 'Anglit',\n",
       " 'Arccos',\n",
       " 'Arccosh',\n",
       " 'Archimedean',\n",
       " 'Arcsin',\n",
       " 'Arcsinh',\n",
       " 'Arcsinus',\n",
       " 'Arctan',\n",
       " 'Arctanh',\n",
       " 'Beta',\n",
       " 'Bradford',\n",
       " 'Burr',\n",
       " 'Cauchy',\n",
       " 'Chi',\n",
       " 'Chisquard',\n",
       " 'Clayton',\n",
       " 'Copula',\n",
       " 'Corr',\n",
       " 'Cos',\n",
       " 'Cosh',\n",
       " 'Cov',\n",
       " 'DATATYPES',\n",
       " 'Dbl_gamma',\n",
       " 'Dbl_weibull',\n",
       " 'Dist',\n",
       " 'E',\n",
       " 'E_cond',\n",
       " 'Exponential',\n",
       " 'Exponpow',\n",
       " 'Exponweibull',\n",
       " 'F',\n",
       " 'Fatiguelife',\n",
       " 'Fisk',\n",
       " 'Foldcauchy',\n",
       " 'Foldnormal',\n",
       " 'Frank',\n",
       " 'Frechet',\n",
       " 'Gamma',\n",
       " 'Genexpon',\n",
       " 'Genextreme',\n",
       " 'Gengamma',\n",
       " 'Genhalflogistic',\n",
       " 'Gilbrat',\n",
       " 'Gompertz',\n",
       " 'Graph',\n",
       " 'Gumbel',\n",
       " 'Hypgeosec',\n",
       " 'Iid',\n",
       " 'J',\n",
       " 'Joe',\n",
       " 'Joint',\n",
       " 'Kumaraswamy',\n",
       " 'Kurt',\n",
       " 'Laplace',\n",
       " 'Levy',\n",
       " 'Loggamma',\n",
       " 'Logistic',\n",
       " 'Loglaplace',\n",
       " 'Lognormal',\n",
       " 'Loguniform',\n",
       " 'Logweibul',\n",
       " 'Maxwell',\n",
       " 'Mielke',\n",
       " 'MvLognormal',\n",
       " 'MvNormal',\n",
       " 'MvStudent_t',\n",
       " 'Nakagami',\n",
       " 'Nataf',\n",
       " 'Normal',\n",
       " 'OTDistribution',\n",
       " 'Pareto1',\n",
       " 'Pareto2',\n",
       " 'Perc',\n",
       " 'Poly',\n",
       " 'Powerlaw',\n",
       " 'Powerlognormal',\n",
       " 'Powernorm',\n",
       " 'QUAD_FUNCTIONS',\n",
       " 'QUAD_SHORT_NAMES',\n",
       " 'QoI_Dist',\n",
       " 'Raised_cosine',\n",
       " 'Rayleigh',\n",
       " 'Reciprocal',\n",
       " 'Saltelli',\n",
       " 'SampleDist',\n",
       " 'Sens_m',\n",
       " 'Sens_m2',\n",
       " 'Sens_m2_sample',\n",
       " 'Sens_m_nataf',\n",
       " 'Sens_m_sample',\n",
       " 'Sens_nataf',\n",
       " 'Sens_t',\n",
       " 'Sens_t_nataf',\n",
       " 'Sens_t_sample',\n",
       " 'Sin',\n",
       " 'Sinh',\n",
       " 'Skew',\n",
       " 'Spearman',\n",
       " 'Std',\n",
       " 'Student_t',\n",
       " 'T_copula',\n",
       " 'Tan',\n",
       " 'Tanh',\n",
       " 'Triangle',\n",
       " 'Truncexpon',\n",
       " 'Truncnorm',\n",
       " 'Tukeylambda',\n",
       " 'Uniform',\n",
       " 'Var',\n",
       " 'Wald',\n",
       " 'Weibull',\n",
       " 'Wigner',\n",
       " 'Wrapcauchy',\n",
       " '__builtins__',\n",
       " '__cached__',\n",
       " '__doc__',\n",
       " '__file__',\n",
       " '__loader__',\n",
       " '__name__',\n",
       " '__package__',\n",
       " '__path__',\n",
       " '__spec__',\n",
       " '__version__',\n",
       " 'add',\n",
       " 'addition',\n",
       " 'all',\n",
       " 'alpha',\n",
       " 'anglit',\n",
       " 'antithetic',\n",
       " 'any',\n",
       " 'approx',\n",
       " 'arithmetics',\n",
       " 'around',\n",
       " 'asfloat',\n",
       " 'asint',\n",
       " 'base',\n",
       " 'baseclass',\n",
       " 'basis',\n",
       " 'bertran',\n",
       " 'beta',\n",
       " 'bradford',\n",
       " 'burr',\n",
       " 'caller',\n",
       " 'calling',\n",
       " 'cauchy',\n",
       " 'chaospy',\n",
       " 'chebyshev',\n",
       " 'chi',\n",
       " 'chisquared',\n",
       " 'chol',\n",
       " 'clenshaw_curtis',\n",
       " 'collection',\n",
       " 'comb',\n",
       " 'combine',\n",
       " 'construct',\n",
       " 'constructor',\n",
       " 'containers',\n",
       " 'copulas',\n",
       " 'copy',\n",
       " 'core',\n",
       " 'cores',\n",
       " 'cp',\n",
       " 'create_antithetic_variates',\n",
       " 'create_chebyshev_samples',\n",
       " 'create_grid_samples',\n",
       " 'create_halton_samples',\n",
       " 'create_hammersley_samples',\n",
       " 'create_korobov_samples',\n",
       " 'create_latin_hypercube_samples',\n",
       " 'create_nested_chebyshev_samples',\n",
       " 'create_nested_grid_samples',\n",
       " 'create_sobol_samples',\n",
       " 'cumprod',\n",
       " 'cumsum',\n",
       " 'cutoff',\n",
       " 'dbl_gamma',\n",
       " 'dbl_weibull',\n",
       " 'decompose',\n",
       " 'derivative',\n",
       " 'descriptives',\n",
       " 'diag',\n",
       " 'differential',\n",
       " 'dimension',\n",
       " 'dimsplit',\n",
       " 'distributions',\n",
       " 'division',\n",
       " 'dot',\n",
       " 'dtyping',\n",
       " 'erlang',\n",
       " 'expon',\n",
       " 'exponpow',\n",
       " 'exponweibull',\n",
       " 'f',\n",
       " 'fac',\n",
       " 'fatiguelife',\n",
       " 'find_interior_point',\n",
       " 'first',\n",
       " 'fisk',\n",
       " 'fit_quadrature',\n",
       " 'fit_regression',\n",
       " 'flatten',\n",
       " 'foldcauchy',\n",
       " 'foldnorm',\n",
       " 'frechet',\n",
       " 'frontend',\n",
       " 'gamma',\n",
       " 'gauss_legendre',\n",
       " 'gauss_patterson',\n",
       " 'gaussian_kde',\n",
       " 'generate_quadrature',\n",
       " 'generate_samples',\n",
       " 'generate_stieltjes',\n",
       " 'generator',\n",
       " 'genexpon',\n",
       " 'genextreme',\n",
       " 'gengamma',\n",
       " 'genhalflogistic',\n",
       " 'genz_keister',\n",
       " 'get_function',\n",
       " 'golub_welsch',\n",
       " 'gompertz',\n",
       " 'gradient',\n",
       " 'graph',\n",
       " 'grid',\n",
       " 'gumbel',\n",
       " 'halton',\n",
       " 'hammersley',\n",
       " 'hessian',\n",
       " 'higher',\n",
       " 'hyperbolic',\n",
       " 'hypgeosec',\n",
       " 'inner',\n",
       " 'inspect',\n",
       " 'interface',\n",
       " 'inv',\n",
       " 'is_decomposed',\n",
       " 'joint',\n",
       " 'kdedist',\n",
       " 'korobov',\n",
       " 'kumaraswamy',\n",
       " 'lagrange',\n",
       " 'laplace',\n",
       " 'latin_hypercube',\n",
       " 'leja',\n",
       " 'levy',\n",
       " 'linalg',\n",
       " 'log',\n",
       " 'log10',\n",
       " 'logarithm',\n",
       " 'logarithm10',\n",
       " 'logarithmn',\n",
       " 'loggamma',\n",
       " 'logistic',\n",
       " 'loglaplace',\n",
       " 'logn',\n",
       " 'lognormal',\n",
       " 'loguniform',\n",
       " 'main',\n",
       " 'mielke',\n",
       " 'misc',\n",
       " 'mom',\n",
       " 'moment_generator',\n",
       " 'mul',\n",
       " 'multiply',\n",
       " 'mvlognormal',\n",
       " 'mvnormal',\n",
       " 'mvstudentt',\n",
       " 'nakagami',\n",
       " 'nct',\n",
       " 'neg',\n",
       " 'negative',\n",
       " 'norm',\n",
       " 'normal',\n",
       " 'np',\n",
       " 'numpy',\n",
       " 'numpy_',\n",
       " 'operators',\n",
       " 'order',\n",
       " 'orth_chol',\n",
       " 'orth_gs',\n",
       " 'orth_ttr',\n",
       " 'orthogonal',\n",
       " 'otdistribution',\n",
       " 'outer',\n",
       " 'pareto1',\n",
       " 'pareto2',\n",
       " 'pdf',\n",
       " 'pdf_full',\n",
       " 'poly',\n",
       " 'pow',\n",
       " 'power',\n",
       " 'powerlognorm',\n",
       " 'powernorm',\n",
       " 'ppf',\n",
       " 'prange',\n",
       " 'primes',\n",
       " 'prod',\n",
       " 'prune',\n",
       " 'quad',\n",
       " 'quad_clenshaw_curtis',\n",
       " 'quad_gauss_legendre',\n",
       " 'quad_gauss_patterson',\n",
       " 'quad_genz_keister',\n",
       " 'quad_golub_welsch',\n",
       " 'quad_leja',\n",
       " 'raised_cosine',\n",
       " 'reciprocal',\n",
       " 'regression',\n",
       " 'repeat',\n",
       " 'reshape',\n",
       " 'rice',\n",
       " 'rlstsq',\n",
       " 'roll',\n",
       " 'rollaxis',\n",
       " 'rolldim',\n",
       " 'rosenblatt',\n",
       " 'rule_generator',\n",
       " 'saltelli',\n",
       " 'sampler',\n",
       " 'second1d',\n",
       " 'second2d',\n",
       " 'seed',\n",
       " 'sensitivity',\n",
       " 'sequences',\n",
       " 'setdim',\n",
       " 'shaping',\n",
       " 'sobol',\n",
       " 'sort_key',\n",
       " 'sp',\n",
       " 'sparse_grid',\n",
       " 'special',\n",
       " 'spectral',\n",
       " 'stieltjes',\n",
       " 'student_t',\n",
       " 'substitute',\n",
       " 'sum',\n",
       " 'swapaxes',\n",
       " 'swapdim',\n",
       " 'toarray',\n",
       " 'tolist',\n",
       " 'trace',\n",
       " 'transpose',\n",
       " 'tri_ttr',\n",
       " 'triangle',\n",
       " 'tricu',\n",
       " 'trignometric',\n",
       " 'tril',\n",
       " 'truncexpon',\n",
       " 'truncnorm',\n",
       " 'trunk',\n",
       " 'trunkation',\n",
       " 'ttr',\n",
       " 'tukeylambda',\n",
       " 'typing',\n",
       " 'uniform',\n",
       " 'van_der_corput',\n",
       " 'variable',\n",
       " 'version',\n",
       " 'wald',\n",
       " 'weibull',\n",
       " 'wrapcauchy']"
      ]
     },
     "execution_count": 11,
     "metadata": {},
     "output_type": "execute_result"
    }
   ],
   "source": [
    "dir(cp)"
   ]
  },
  {
   "cell_type": "code",
   "execution_count": null,
   "metadata": {},
   "outputs": [],
   "source": []
  }
 ],
 "metadata": {
  "kernelspec": {
   "display_name": "Python 2",
   "language": "python",
   "name": "python2"
  },
  "language_info": {
   "codemirror_mode": {
    "name": "ipython",
    "version": 3
   },
   "file_extension": ".py",
   "mimetype": "text/x-python",
   "name": "python",
   "nbconvert_exporter": "python",
   "pygments_lexer": "ipython3",
   "version": "3.6.5"
  }
 },
 "nbformat": 4,
 "nbformat_minor": 1
}
