{
 "cells": [
  {
   "cell_type": "markdown",
   "metadata": {},
   "source": [
    "# analyze 30 s data sets"
   ]
  },
  {
   "cell_type": "markdown",
   "metadata": {},
   "source": [
    "### Condensed version of things for Jullian"
   ]
  },
  {
   "cell_type": "code",
   "execution_count": 78,
   "metadata": {},
   "outputs": [],
   "source": [
    "%matplotlib inline\n",
    "import os\n",
    "#import computeDEL\n",
    "import matplotlib.pyplot as plt\n",
    "import numpy as np\n",
    "from scipy import signal\n",
    "import matplotlib.gridspec as gridspec\n",
    "from matplotlib import rcParams\n",
    "rcParams.update({'figure.autolayout': True})\n",
    "import scipy.io as spio\n",
    "#import wrapFunctions #import wrap180, wrap360, wrapList\n",
    "import glob\n",
    "import pandas as pd\n",
    "#from ggplot import *\n",
    "from scipy import stats"
   ]
  },
  {
   "cell_type": "markdown",
   "metadata": {},
   "source": [
    "## Parameters"
   ]
  },
  {
   "cell_type": "code",
   "execution_count": 79,
   "metadata": {},
   "outputs": [],
   "source": [
    "dataFolder = 'data30'\n",
    "dataFile  = os.path.join(dataFolder,'dataFile.csv')\n",
    "\n",
    "figFolder = 'signalPlots_Update'\n",
    "maxminFolder = 'maxminPlots_Update'\n",
    "\n",
    "lowTurb = False # Limit by TI?\n",
    "tiLim = 6. # % TI to limit to "
   ]
  },
  {
   "cell_type": "markdown",
   "metadata": {},
   "source": [
    "## Load the data file"
   ]
  },
  {
   "cell_type": "code",
   "execution_count": 80,
   "metadata": {},
   "outputs": [],
   "source": [
    "df = pd.read_csv(dataFile)"
   ]
  },
  {
   "cell_type": "markdown",
   "metadata": {},
   "source": [
    "## Analysis"
   ]
  },
  {
   "cell_type": "code",
   "execution_count": 81,
   "metadata": {},
   "outputs": [],
   "source": [
    "# Make output folder\n",
    "if not os.path.exists(figFolder):\n",
    "    os.makedirs(figFolder)\n",
    "if not os.path.exists(maxminFolder):\n",
    "    os.makedirs(maxminFolder)"
   ]
  },
  {
   "cell_type": "code",
   "execution_count": 82,
   "metadata": {},
   "outputs": [],
   "source": [
    "# Add a channel which is cut wind speed and direction\n",
    "binEdge = np.arange(3.,20.)\n",
    "binEdge = np.arange(3.,16.)\n",
    "df['windRange'] = pd.cut(df.WS1_90m_mean,binEdge,right=True)\n",
    "\n",
    "binEdge = np.arange(-45.,55.,5) - 2.5\n",
    "binLabel = range(-45,50,5)\n",
    "#df['dirBin'] = pd.cut(df.apparantVane_mean,binEdge,right=True,labels=binLabel)\n",
    "df['dirBin'] = pd.cut(df.WD_Nacelle_mean - 180.,binEdge,right=True,labels=binLabel)"
   ]
  },
  {
   "cell_type": "code",
   "execution_count": 83,
   "metadata": {},
   "outputs": [],
   "source": [
    "# Limit by TI if told to:\n",
    "if lowTurb:\n",
    "    df['TI'] = 100. * df.WS1_90m_std / df.WS1_90m_mean\n",
    "    df = df[df.TI < tiLim]\n",
    "    df = df.drop('TI',axis=1)"
   ]
  },
  {
   "cell_type": "code",
   "execution_count": 84,
   "metadata": {},
   "outputs": [
    {
     "data": {
      "text/plain": [
       "(11710, 132)"
      ]
     },
     "execution_count": 84,
     "metadata": {},
     "output_type": "execute_result"
    }
   ],
   "source": [
    "# Limit to regions with low nacelle error for first plot, which compares the measurement\n",
    "# between turbine and met mast\n",
    "dfTemp = df[ abs(df.WD_Nacelle_mean - 180.) < 5.]\n",
    "dfTemp = dfTemp[ dfTemp.ApparentPower_mean > 150.] # Make sure some power being produced\n",
    "dfTemp.shape"
   ]
  },
  {
   "cell_type": "code",
   "execution_count": 97,
   "metadata": {},
   "outputs": [
    {
     "name": "stderr",
     "output_type": "stream",
     "text": [
      "/usr/local/lib/python3.6/site-packages/scipy/stats/_continuous_distns.py:427: RuntimeWarning: invalid value encountered in sqrt\n",
      "  sk = 2*(b-a)*np.sqrt(a + b + 1) / (a + b + 2) / np.sqrt(a*b)\n",
      "/usr/local/lib/python3.6/site-packages/scipy/optimize/minpack.py:161: RuntimeWarning: The iteration is not making good progress, as measured by the \n",
      "  improvement from the last ten iterations.\n",
      "  warnings.warn(msg, RuntimeWarning)\n"
     ]
    },
    {
     "name": "stdout",
     "output_type": "stream",
     "text": [
      "6.12844458875185\n"
     ]
    },
    {
     "name": "stderr",
     "output_type": "stream",
     "text": [
      "/usr/local/lib/python3.6/site-packages/matplotlib/figure.py:1742: UserWarning: This figure includes Axes that are not compatible with tight_layout, so its results might be incorrect.\n",
      "  warnings.warn(\"This figure includes Axes that are not \"\n"
     ]
    },
    {
     "data": {
      "image/png": "[encoded data removed]",
      "text/plain": [
       "<matplotlib.figure.Figure at 0x115b25128>"
      ]
     },
     "metadata": {},
     "output_type": "display_data"
    }
   ],
   "source": [
    "dfTemp['turbinePos'] = dfTemp.Yaw_Encoder_mean + (df.WD_Nacelle_mean - 180.)\n",
    "fig, ax = plt.subplots()\n",
    "unclearnerrs = dfTemp.WD1_87m_mean-dfTemp.turbinePos\n",
    "yawerrs = unclearnerrs[~(np.abs(unclearnerrs)>30)]\n",
    "#yawerrs -= np.mean(yawerrs)\n",
    "ax.hist(yawerrs, bins=300, normed=1, label='data')\n",
    "x = np.arange(-30, 30, .01)\n",
    "\n",
    "distrNameList = ['cauchy', 't', 'laplace', 'beta', 'norm']\n",
    "for distrName in distrNameList:\n",
    "    distr = getattr(stats.distributions, distrName)\n",
    "    param = distr.fit(yawerrs)\n",
    "    pdf = distr.pdf(x, *param)\n",
    "    ax.plot(x, pdf, lw=3, label=distrName)\n",
    "\n",
    "ax.set_xlim([-30,30])\n",
    "ax.axvline(yawerrs.mean(), lw=2, c='k')\n",
    "ax.set_xlabel(\"Yaw Position Error\" r\" ($\\degree$)\")\n",
    "ax.set_ylabel(\"Probability\")\n",
    "plt.legend()\n",
    "print (np.std(yawerrs))"
   ]
  },
  {
   "cell_type": "code",
   "execution_count": null,
   "metadata": {},
   "outputs": [],
   "source": []
  }
 ],
 "metadata": {
  "kernelspec": {
   "display_name": "Python 2",
   "language": "python",
   "name": "python2"
  },
  "language_info": {
   "codemirror_mode": {
    "name": "ipython",
    "version": 3
   },
   "file_extension": ".py",
   "mimetype": "text/x-python",
   "name": "python",
   "nbconvert_exporter": "python",
   "pygments_lexer": "ipython3",
   "version": "3.6.5"
  }
 },
 "nbformat": 4,
 "nbformat_minor": 1
}
