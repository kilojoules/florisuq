{
 "cells": [
  {
   "cell_type": "markdown",
   "metadata": {},
   "source": [
    "# analyze 30 s data sets"
   ]
  },
  {
   "cell_type": "markdown",
   "metadata": {},
   "source": [
    "### Condensed version of things for Jullian"
   ]
  },
  {
   "cell_type": "code",
   "execution_count": 8,
   "metadata": {},
   "outputs": [],
   "source": [
    "%matplotlib inline\n",
    "import os\n",
    "#import computeDEL\n",
    "import matplotlib.pyplot as plt\n",
    "import numpy as np\n",
    "from scipy import signal\n",
    "import matplotlib.gridspec as gridspec\n",
    "from matplotlib import rcParams\n",
    "rcParams.update({'figure.autolayout': True})\n",
    "import scipy.io as spio\n",
    "#import wrapFunctions #import wrap180, wrap360, wrapList\n",
    "import glob\n",
    "import pandas as pd\n",
    "#from ggplot import *\n",
    "import seaborn as sns\n",
    "from scipy import stats"
   ]
  },
  {
   "cell_type": "markdown",
   "metadata": {},
   "source": [
    "## Parameters"
   ]
  },
  {
   "cell_type": "code",
   "execution_count": 9,
   "metadata": {},
   "outputs": [],
   "source": [
    "dataFolder = 'data30'\n",
    "dataFile  = os.path.join(dataFolder,'dataFile.csv')\n",
    "\n",
    "figFolder = 'signalPlots_Update'\n",
    "maxminFolder = 'maxminPlots_Update'\n",
    "\n",
    "lowTurb = False # Limit by TI?\n",
    "tiLim = 6. # % TI to limit to "
   ]
  },
  {
   "cell_type": "markdown",
   "metadata": {},
   "source": [
    "## Load the data file"
   ]
  },
  {
   "cell_type": "code",
   "execution_count": 10,
   "metadata": {},
   "outputs": [],
   "source": [
    "df = pd.read_csv(dataFile)"
   ]
  },
  {
   "cell_type": "markdown",
   "metadata": {},
   "source": [
    "## Analysis"
   ]
  },
  {
   "cell_type": "code",
   "execution_count": 11,
   "metadata": {},
   "outputs": [],
   "source": [
    "# Make output folder\n",
    "if not os.path.exists(figFolder):\n",
    "    os.makedirs(figFolder)\n",
    "if not os.path.exists(maxminFolder):\n",
    "    os.makedirs(maxminFolder)"
   ]
  },
  {
   "cell_type": "code",
   "execution_count": 12,
   "metadata": {},
   "outputs": [],
   "source": [
    "# Add a channel which is cut wind speed and direction\n",
    "binEdge = np.arange(3.,20.)\n",
    "binEdge = np.arange(3.,16.)\n",
    "df['windRange'] = pd.cut(df.WS1_90m_mean,binEdge,right=True)\n",
    "\n",
    "binEdge = np.arange(-45.,55.,5) - 2.5\n",
    "binLabel = range(-45,50,5)\n",
    "#df['dirBin'] = pd.cut(df.apparantVane_mean,binEdge,right=True,labels=binLabel)\n",
    "df['dirBin'] = pd.cut(df.WD_Nacelle_mean - 180.,binEdge,right=True,labels=binLabel)"
   ]
  },
  {
   "cell_type": "code",
   "execution_count": 13,
   "metadata": {},
   "outputs": [],
   "source": [
    "# Limit by TI if told to:\n",
    "if lowTurb:\n",
    "    df['TI'] = 100. * df.WS1_90m_std / df.WS1_90m_mean\n",
    "    df = df[df.TI < tiLim]\n",
    "    df = df.drop('TI',axis=1)"
   ]
  },
  {
   "cell_type": "code",
   "execution_count": 14,
   "metadata": {},
   "outputs": [],
   "source": [
    "# Set the style\n",
    "sns.set_style(\"ticks\",{\"axes;grid\": True})"
   ]
  },
  {
   "cell_type": "code",
   "execution_count": 15,
   "metadata": {},
   "outputs": [],
   "source": [
    "# Grab a sigList\n",
    "sigList = df.columns[:-2]"
   ]
  },
  {
   "cell_type": "markdown",
   "metadata": {},
   "source": [
    "## Quick plot of wind direction comparison"
   ]
  },
  {
   "cell_type": "code",
   "execution_count": 16,
   "metadata": {},
   "outputs": [
    {
     "ename": "SyntaxError",
     "evalue": "Missing parentheses in call to 'print'. Did you mean print(s)? (<ipython-input-16-6a3ecafab0c6>, line 2)",
     "output_type": "error",
     "traceback": [
      "\u001b[0;36m  File \u001b[0;32m\"<ipython-input-16-6a3ecafab0c6>\"\u001b[0;36m, line \u001b[0;32m2\u001b[0m\n\u001b[0;31m    print s\u001b[0m\n\u001b[0m          ^\u001b[0m\n\u001b[0;31mSyntaxError\u001b[0m\u001b[0;31m:\u001b[0m Missing parentheses in call to 'print'. Did you mean print(s)?\n"
     ]
    }
   ],
   "source": [
    "for s in sigList:\n",
    "    print s"
   ]
  },
  {
   "cell_type": "code",
   "execution_count": 17,
   "metadata": {},
   "outputs": [
    {
     "data": {
      "text/plain": [
       "(11710, 132)"
      ]
     },
     "execution_count": 17,
     "metadata": {},
     "output_type": "execute_result"
    }
   ],
   "source": [
    "# Limit to regions with low nacelle error for first plot, which compares the measurement\n",
    "# between turbine and met mast\n",
    "dfTemp = df[ abs(df.WD_Nacelle_mean - 180.) < 5.]\n",
    "dfTemp = dfTemp[ dfTemp.ApparentPower_mean > 150.] # Make sure some power being produced\n",
    "dfTemp.shape"
   ]
  },
  {
   "cell_type": "code",
   "execution_count": 27,
   "metadata": {},
   "outputs": [
    {
     "name": "stdout",
     "output_type": "stream",
     "text": [
      "7.621391973807579\n"
     ]
    },
    {
     "name": "stderr",
     "output_type": "stream",
     "text": [
      "/usr/local/lib/python3.6/site-packages/matplotlib/figure.py:1742: UserWarning: This figure includes Axes that are not compatible with tight_layout, so its results might be incorrect.\n",
      "  warnings.warn(\"This figure includes Axes that are not \"\n"
     ]
    },
    {
     "data": {
      "image/png": "[encoded data removed]",
      "text/plain": [
       "<matplotlib.figure.Figure at 0x11950ea90>"
      ]
     },
     "metadata": {},
     "output_type": "display_data"
    }
   ],
   "source": [
    "dfTemp['turbinePos'] = dfTemp.Yaw_Encoder_mean + (df.WD_Nacelle_mean - 180.)\n",
    "fig, ax = plt.subplots()\n",
    "#ax.plot(dfTemp.WD1_87m_mean,dfTemp.turbinePos,'.')\n",
    "ax.hist(dfTemp.WD1_87m_mean-dfTemp.turbinePos,bins=500)\n",
    "ax.set_xlim([-30,30])\n",
    "ax.axvline(2)\n",
    "print np.std(dfTemp.WD1_87m_mean-dfTemp.turbinePos)"
   ]
  },
  {
   "cell_type": "code",
   "execution_count": 15,
   "metadata": {},
   "outputs": [
    {
     "data": {
      "text/plain": [
       "(21457, 132)"
      ]
     },
     "execution_count": 15,
     "metadata": {},
     "output_type": "execute_result"
    }
   ],
   "source": [
    "# For second plot, just limit to where lidar is close to 0, inicating we were trying to track to 0 yaw misalignment\n",
    "dfTemp = df[ df.LidarOffset_mean > -1.]\n",
    "dfTemp = dfTemp[ dfTemp.ApparentPower_mean > 150.] # Make sure some power being produced\n",
    "dfTemp.shape\n"
   ]
  },
  {
   "cell_type": "code",
   "execution_count": 36,
   "metadata": {},
   "outputs": [
    {
     "data": {
      "image/png": "[encoded data removed]",
      "text/plain": [
       "<matplotlib.figure.Figure at 0x11ce31e50>"
      ]
     },
     "metadata": {},
     "output_type": "display_data"
    }
   ],
   "source": [
    "fig, ax = plt.subplots()\n",
    "ax.hist(dfTemp.apparantVane_mean,bins=500, normed=True, label=\"Observed\")\n",
    "ax.set_xlim([-30,30])\n",
    "#ax.axvline(2)\n",
    "import numpy\n",
    "x = np.arange(-30, 30, .1)\n",
    "ax.plot(x, stats.norm.pdf(x, 0, 6.16), lw=3, c='k', label=\"Fit\")\n",
    "ax.legend()\n",
    "ax.set_xlabel(\"Yaw Position Error\" r\" ($\\degree$)\")\n",
    "ax.set_ylabel(\"Probability\")\n",
    "plt.savefig(\"YawObsNREL.pdf\")"
   ]
  },
  {
   "cell_type": "code",
   "execution_count": null,
   "metadata": {
    "collapsed": true
   },
   "outputs": [],
   "source": []
  }
 ],
 "metadata": {
  "kernelspec": {
   "display_name": "Python 2",
   "language": "python",
   "name": "python2"
  },
  "language_info": {
   "codemirror_mode": {
    "name": "ipython",
    "version": 3
   },
   "file_extension": ".py",
   "mimetype": "text/x-python",
   "name": "python",
   "nbconvert_exporter": "python",
   "pygments_lexer": "ipython3",
   "version": "3.6.5"
  }
 },
 "nbformat": 4,
 "nbformat_minor": 1
}
