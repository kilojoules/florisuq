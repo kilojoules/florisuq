{
 "cells": [
  {
   "cell_type": "markdown",
   "metadata": {
    "collapsed": true
   },
   "source": [
    "## Analyze loads for certain time series of fsfw"
   ]
  },
  {
   "cell_type": "code",
   "execution_count": 4,
   "metadata": {
    "collapsed": false
   },
   "outputs": [],
   "source": [
    "# %matplotlib inline\n",
    "import readFASTOutput\n",
    "import os\n",
    "import computeDEL\n",
    "from wrapFunctions import wrapList\n",
    "import matplotlib.pyplot as plt\n",
    "import numpy as np\n",
    "from scipy import signal\n",
    "import matplotlib.gridspec as gridspec\n",
    "from matplotlib import rcParams\n",
    "rcParams.update({'figure.autolayout': True})\n",
    "import scipy.io as spio\n",
    "import wrapFunctions #import wrap180, wrap360, wrapList"
   ]
  },
  {
   "cell_type": "markdown",
   "metadata": {},
   "source": [
    "## Parameters"
   ]
  },
  {
   "cell_type": "code",
   "execution_count": 5,
   "metadata": {
    "collapsed": true
   },
   "outputs": [],
   "source": [
    "dataRoot = 'Y:\\\\Wind\\\\Confidential\\\\Projects\\\\Cert\\\\D-Z\\\\Field Testing\\\\GE 1.5SLE\\\\Tests\\\\FY16\\\\NextEra Yaw Error Project\\\\Wind Vane Misalignment - SRDana\\\\Data\\\\FT_Formatted Fast Data'"
   ]
  },
  {
   "cell_type": "code",
   "execution_count": 6,
   "metadata": {
    "collapsed": true
   },
   "outputs": [],
   "source": [
    "# Cases to compare\n",
    "caseList = ['DOE15_FastData_2016_08_12_17_31_22_50Hz_Formatted_Data.mat','DOE15_FastData_2016_08_12_18_31_22_50Hz_Formatted_Data.mat']\n",
    "#caseList = ['DOE15_FastData_2016_10_10_00_32_35_50Hz_Formatted_Data.mat','DOE15_FastData_2016_10_10_01_32_35_50Hz_Formatted_Data.mat','DOE15_FastData_2016_10_10_02_32_35_50Hz_Formatted_Data.mat']\n",
    "#caseList = ['DOE15_FastData_2016_10_10_00_22_35_50Hz_Formatted_Data.mat','DOE15_FastData_2016_10_10_01_22_35_50Hz_Formatted_Data.mat','DOE15_FastData_2016_10_10_02_22_35_50Hz_Formatted_Data.mat']\n",
    "#caseList = ['DOE15_FastData_2016_10_10_00_12_35_50Hz_Formatted_Data.mat','DOE15_FastData_2016_10_10_01_12_35_50Hz_Formatted_Data.mat','DOE15_FastData_2016_10_10_02_12_35_50Hz_Formatted_Data.mat']\n",
    "#caseList = ['DOE15_FastData_2016_10_10_00_42_35_50Hz_Formatted_Data.mat','DOE15_FastData_2016_10_10_01_42_35_50Hz_Formatted_Data.mat','DOE15_FastData_2016_10_10_02_42_35_50Hz_Formatted_Data.mat']"
   ]
  },
  {
   "cell_type": "markdown",
   "metadata": {},
   "source": [
    "## Load Data"
   ]
  },
  {
   "cell_type": "code",
   "execution_count": 7,
   "metadata": {
    "collapsed": true
   },
   "outputs": [],
   "source": [
    "# From http://stackoverflow.com/questions/7008608/scipy-io-loadmat-nested-structures-i-e-dictionaries\n",
    "\n",
    "def loadmat(filename):\n",
    "    '''\n",
    "    this function should be called instead of direct spio.loadmat\n",
    "    as it cures the problem of not properly recovering python dictionaries\n",
    "    from mat files. It calls the function check keys to cure all entries\n",
    "    which are still mat-objects\n",
    "    '''\n",
    "    data = spio.loadmat(filename, struct_as_record=False, squeeze_me=True)\n",
    "    return _check_keys(data)\n",
    "\n",
    "def _check_keys(dict):\n",
    "    '''\n",
    "    checks if entries in dictionary are mat-objects. If yes\n",
    "    todict is called to change them to nested dictionaries\n",
    "    '''\n",
    "    for key in dict:\n",
    "        if isinstance(dict[key], spio.matlab.mio5_params.mat_struct):\n",
    "            dict[key] = _todict(dict[key])\n",
    "    return dict        \n",
    "\n",
    "def _todict(matobj):\n",
    "    '''\n",
    "    A recursive function which constructs from matobjects nested dictionaries\n",
    "    '''\n",
    "    dict = {}\n",
    "    for strg in matobj._fieldnames:\n",
    "        elem = matobj.__dict__[strg]\n",
    "        if isinstance(elem, spio.matlab.mio5_params.mat_struct):\n",
    "            dict[strg] = _todict(elem)\n",
    "        else:\n",
    "            dict[strg] = elem\n",
    "    return dict"
   ]
  },
  {
   "cell_type": "code",
   "execution_count": 8,
   "metadata": {
    "collapsed": false
   },
   "outputs": [],
   "source": [
    "dataArray = []\n",
    "nameArray = []\n",
    "\n",
    "numCase = len(caseList)\n",
    "\n",
    "for case in caseList:\n",
    "\n",
    "    #case = caseList[0]\n",
    "    date = case[15:25]\n",
    "    date = date.replace('_','-')\n",
    "    \n",
    "    name = case[26:34]\n",
    "    nameArray.append(name)\n",
    "\n",
    "    data = loadmat(os.path.join(dataRoot,date,case))#,squeeze_me =True,struct_as_record=False) \n",
    "    data = data['data_out']\n",
    "    \n",
    "    # Add the apparant vane signal\n",
    "    data['apparantVane'] = dict()\n",
    "    data['apparantVane']['processed'] =  np.array(wrapFunctions.wrapList(data['WD1_87m']['processed'] - data['Yaw_Encoder']['processed'] ))\n",
    "    \n",
    "    # Detect if the signal is offset\n",
    "    if np.mean(data['LidarOffset']['processed']) < -20.:\n",
    "        data['offset'] = 25 \n",
    "    elif np.mean(data['LidarOffset']['processed']) > 20.:\n",
    "        data['offset'] = -25 \n",
    "    elif np.mean(data['LidarOffset']['processed']) > 10.:\n",
    "        data['offset'] = -12.5 \n",
    "    elif np.mean(data['LidarOffset']['processed']) < -10.:\n",
    "        data['offset'] = 12.5 \n",
    "    else:\n",
    "        data['offset'] = 0   \n",
    "        \n",
    "    dataArray.append(data)"
   ]
  },
  {
   "cell_type": "code",
   "execution_count": 9,
   "metadata": {
    "collapsed": false
   },
   "outputs": [
    {
     "data": {
      "text/plain": [
       "array([ 14.717118  ,  14.717118  ,  14.717118  , ...,  25.38797856,\n",
       "        25.38797856,  25.38797856])"
      ]
     },
     "execution_count": 9,
     "metadata": {},
     "output_type": "execute_result"
    }
   ],
   "source": [
    "np.array(wrapFunctions.wrapList(data['WD1_87m']['processed'] - data['Yaw_Encoder']['processed'] ))"
   ]
  },
  {
   "cell_type": "code",
   "execution_count": 10,
   "metadata": {
    "collapsed": true
   },
   "outputs": [],
   "source": [
    "# channels\n",
    "# WD_Nacelle\n",
    "# WS1_90m\n",
    "# Blade_1_Flap\n",
    "# ApparentPower\n",
    "# Yaw_Encoder\n",
    "# WD1_87m\n",
    "# LidarOffset\n",
    "#  u'LSSDW_M0', u'LSSDW_M90',\n",
    "#  u'LSSDW_My', u'LSSDW_Mz',\n",
    "#  u'TT_ForeAft', u'TT_SideSide',\n",
    "# 'TB_ForeAft', u'TB_SideSide',\n",
    "# BL1_FlapMom"
   ]
  },
  {
   "cell_type": "markdown",
   "metadata": {},
   "source": [
    "## Analysis plots"
   ]
  },
  {
   "cell_type": "code",
   "execution_count": 11,
   "metadata": {
    "collapsed": false
   },
   "outputs": [],
   "source": [
    "## Make a first time series plot\n",
    "fig, axarr = plt.subplots(6,1,sharex=True)\n",
    "\n",
    "colArray = ['b','g','r','m','c','k']\n",
    "\n",
    "for idx, (data, name) in enumerate(zip(dataArray,nameArray)):\n",
    "\n",
    "    #arLen = len(data['MSExcelTimestamp']['processed'])\n",
    "    t = np.arange(0,10.*60.,.02)\n",
    "    \n",
    "    if data['offset'] == 0:\n",
    "        col = colArray[idx]\n",
    "    elif data['offset'] == 25:\n",
    "        col = colArray[idx] + '--'\n",
    "    else:\n",
    "        col = colArray[idx] + ':'\n",
    "        \n",
    "    ax = axarr[0]\n",
    "    sig = 'WS1_90m'\n",
    "    ax.plot(t,data[sig]['processed'],col,label=name)\n",
    "    ax.set_ylabel(sig)\n",
    "    ax.legend()\n",
    "    \n",
    "    ax = axarr[1]\n",
    "    sig = 'WD1_87m'\n",
    "    ax.plot(t,data[sig]['processed'],col,label=name)\n",
    "    ax.set_ylabel(sig)\n",
    "    ax.legend()\n",
    "    \n",
    "    ax = axarr[2]\n",
    "    sig = 'LidarOffset'\n",
    "    ax.plot(t,data[sig]['processed'],col,label=name)\n",
    "    ax.set_ylabel(sig)\n",
    "    ax.legend()\n",
    "    \n",
    "    ax = axarr[3]\n",
    "    sig = 'WD_Nacelle'\n",
    "    ax.plot(t,data[sig]['processed'],col,label=name)\n",
    "    ax.set_ylabel(sig)\n",
    "    ax.legend()\n",
    "\n",
    "    ax = axarr[4]\n",
    "    sig = 'Yaw_Encoder'\n",
    "    ax.plot(t,data[sig]['processed'],col,label=name)\n",
    "    ax.set_ylabel(sig)\n",
    "    ax.legend()\n",
    "\n",
    "    ax = axarr[5]\n",
    "    sig = 'apparantVane'\n",
    "    ax.plot(t,data[sig]['processed'],col,label=name)\n",
    "    ax.axhline(np.mean(data[sig]['processed']),color=colArray[idx])\n",
    "    ax.set_ylabel(sig)\n",
    "    ax.legend()\n",
    "    \n",
    "    \n",
    "plt.show()"
   ]
  },
  {
   "cell_type": "code",
   "execution_count": null,
   "metadata": {
    "collapsed": false
   },
   "outputs": [],
   "source": [
    "# Double time plot with loads\n",
    "## Make a first time series plot\n",
    "fig, axarr = plt.subplots(6,2,sharex=True)\n",
    "\n",
    "colArray = ['b','g','r','m','c','k']\n",
    "\n",
    "for idx, (data, name) in enumerate(zip(dataArray,nameArray)):\n",
    "\n",
    "    #arLen = len(data['MSExcelTimestamp']['processed'])\n",
    "    t = np.arange(0,10.*60.,.02)\n",
    "    \n",
    "    if data['offset'] == 0:\n",
    "        col = colArray[idx]\n",
    "    elif data['offset'] == 25:\n",
    "        col = colArray[idx] + '-'\n",
    "    else:\n",
    "        col = colArray[idx] + '-'\n",
    "        \n",
    "    ax = axarr[0,0]\n",
    "    sig = 'WS1_90m'\n",
    "    ax.plot(t,data[sig]['processed'],col,label=name)\n",
    "    ax.set_ylabel(sig)\n",
    "    ax.legend()\n",
    "    \n",
    "    ax = axarr[1,0]\n",
    "    sig = 'WD1_87m'\n",
    "    ax.plot(t,data[sig]['processed'],col,label=name)\n",
    "    ax.set_ylabel(sig)\n",
    "\n",
    "    \n",
    "    ax = axarr[2,0]\n",
    "    sig = 'LidarOffset'\n",
    "    ax.plot(t,data[sig]['processed'],col,label=name)\n",
    "    ax.set_ylabel(sig)\n",
    "\n",
    "    \n",
    "    ax = axarr[3,0]\n",
    "    sig = 'WD_Nacelle'\n",
    "    ax.plot(t,data[sig]['processed'],col,label=name)\n",
    "    ax.set_ylabel(sig)\n",
    "\n",
    "\n",
    "    ax = axarr[4,0]\n",
    "    sig = 'Yaw_Encoder'\n",
    "    ax.plot(t,data[sig]['processed'],col,label=name)\n",
    "    ax.set_ylabel(sig)\n",
    "\n",
    "\n",
    "    ax = axarr[5,0]\n",
    "    sig = 'apparantVane'\n",
    "    ax.plot(t,data[sig]['processed'],col,label=name)\n",
    "    ax.axhline(np.mean(data[sig]['processed']),color=colArray[idx])\n",
    "    ax.set_ylabel(sig)\n",
    "    \n",
    "    ax = axarr[0,1]\n",
    "    sig = 'BL1_FlapMom'\n",
    "    ax.plot(t,data[sig]['processed'],col,label=name)\n",
    "    ax.set_ylabel(sig)\n",
    "    \n",
    "    ax = axarr[1,1]\n",
    "    sig = 'TT_ForeAft'\n",
    "    ax.plot(t,data[sig]['processed'],col,label=name)\n",
    "    ax.set_ylabel(sig)\n",
    "\n",
    "    \n",
    "    ax = axarr[2,1]\n",
    "    sig = 'TT_SideSide'\n",
    "    ax.plot(t,data[sig]['processed'],col,label=name)\n",
    "    ax.set_ylabel(sig)\n",
    "\n",
    "    \n",
    "    ax = axarr[3,1]\n",
    "    sig = 'LSSDW_My'\n",
    "    ax.plot(t,data[sig]['processed'],col,label=name)\n",
    "    ax.set_ylabel(sig)\n",
    "\n",
    "\n",
    "    ax = axarr[4,1]\n",
    "    sig = 'LSSDW_Mz'\n",
    "    ax.plot(t,data[sig]['processed'],col,label=name)\n",
    "    ax.set_ylabel(sig)\n",
    "\n",
    "\n",
    "    ax = axarr[5,1]\n",
    "    sig = 'Pitch_Blade1'\n",
    "    ax.plot(t,data[sig]['processed'],col,label=name)\n",
    "    ax.axhline(np.mean(data[sig]['processed']),color=colArray[idx])\n",
    "    ax.set_ylabel(sig)\n",
    "\n",
    "    \n",
    "    \n",
    "plt.show()"
   ]
  },
  {
   "cell_type": "code",
   "execution_count": 10,
   "metadata": {
    "collapsed": false
   },
   "outputs": [],
   "source": [
    "# Double time plot with loads\n",
    "## Make a first time series plot\n",
    "fig, axarr = plt.subplots(6,3,sharex=True)\n",
    "\n",
    "colArray = ['b','g','r','m','c','k']\n",
    "\n",
    "for idx, (data, name) in enumerate(zip(dataArray,nameArray)):\n",
    "\n",
    "    #arLen = len(data['MSExcelTimestamp']['processed'])\n",
    "    t = np.arange(0,10.*60.,.02)\n",
    "    \n",
    "    if data['offset'] == 0:\n",
    "        col = colArray[idx]\n",
    "    elif data['offset'] == 25:\n",
    "        col = colArray[idx] + '--'\n",
    "    else:\n",
    "        col = colArray[idx] + ':'\n",
    "        \n",
    "    ax = axarr[0,0]\n",
    "    sig = 'WS1_90m'\n",
    "    ax.plot(t,data[sig]['processed'],col,label=name)\n",
    "    ax.set_ylabel(sig)\n",
    "    ax.legend()\n",
    "    \n",
    "    ax = axarr[1,0]\n",
    "    sig = 'WD1_87m'\n",
    "    ax.plot(t,data[sig]['processed'],col,label=name)\n",
    "    ax.set_ylabel(sig)\n",
    "\n",
    "    \n",
    "    ax = axarr[2,0]\n",
    "    sig = 'LidarOffset'\n",
    "    ax.plot(t,data[sig]['processed'],col,label=name)\n",
    "    ax.set_ylabel(sig)\n",
    "\n",
    "    \n",
    "    ax = axarr[3,0]\n",
    "    sig = 'WD_Nacelle'\n",
    "    ax.plot(t,data[sig]['processed'],col,label=name)\n",
    "    ax.set_ylabel(sig)\n",
    "\n",
    "\n",
    "    ax = axarr[4,0]\n",
    "    sig = 'Yaw_Encoder'\n",
    "    ax.plot(t,data[sig]['processed'],col,label=name)\n",
    "    ax.set_ylabel(sig)\n",
    "\n",
    "    ax = axarr[5,0]\n",
    "    sig = 'apparantVane'\n",
    "    ax.plot(t,data[sig]['processed'],col,label=name)\n",
    "    ax.axhline(np.mean(data[sig]['processed']),color=colArray[idx])\n",
    "    ax.set_ylabel(sig)\n",
    "    \n",
    "    ax = axarr[0,1]\n",
    "    sig = 'Pitch_Blade1'\n",
    "    ax.plot(t,data[sig]['processed'],col,label=name)\n",
    "    #ax.axhline(np.mean(data[sig]['processed']),color=colArray[idx])\n",
    "    ax.set_ylabel(sig)\n",
    "    \n",
    "    ax = axarr[1,1]\n",
    "    sig = 'ApparentPower'\n",
    "    ax.plot(t,data[sig]['processed'],col,label=name)\n",
    "    ax.axhline(np.mean(data[sig]['processed']),color=colArray[idx])\n",
    "    ax.set_ylabel(sig)\n",
    "   \n",
    "    ax = axarr[2,1]\n",
    "    sig = 'LSSDW_Tq'\n",
    "    ax.plot(t,data[sig]['processed'],col,label=name)\n",
    "    #ax.axhline(np.mean(data[sig]['processed']),color=colArray[idx])\n",
    "    ax.set_ylabel(sig)\n",
    "    \n",
    "\n",
    "    ax = axarr[3,1]\n",
    "    sig = 'OPC_In_RotorSpd'\n",
    "    ax.plot(t,data[sig]['processed'],col,label=name)\n",
    "    #ax.axhline(np.mean(data[sig]['processed']),color=colArray[idx])\n",
    "    ax.set_ylabel(sig)\n",
    "    \n",
    "    ax = axarr[4,1]\n",
    "    sig = 'BL1_FlapMom'\n",
    "    ax.plot(t,data[sig]['processed'],col,label=name)\n",
    "    ax.set_ylabel(sig)\n",
    "    \n",
    "    ax = axarr[5,1]\n",
    "    sig = 'BL1_EdgeMom'\n",
    "    ax.plot(t,data[sig]['processed'],col,label=name)\n",
    "    ax.set_ylabel(sig)   \n",
    "    \n",
    "    \n",
    "    ax = axarr[0,2]\n",
    "    sig = 'TT_ForeAft'\n",
    "    ax.plot(t,data[sig]['processed'],col,label=name)\n",
    "    ax.set_ylabel(sig)\n",
    "\n",
    "    \n",
    "    ax = axarr[1,2]\n",
    "    sig = 'TT_SideSide'\n",
    "    ax.plot(t,data[sig]['processed'],col,label=name)\n",
    "    ax.set_ylabel(sig)\n",
    "    \n",
    "    ax = axarr[2,2]\n",
    "    sig = 'TB_ForeAft'\n",
    "    ax.plot(t,data[sig]['processed'],col,label=name)\n",
    "    ax.set_ylabel(sig)\n",
    "\n",
    "    \n",
    "    ax = axarr[3,2]\n",
    "    sig = 'TB_SideSide'\n",
    "    ax.plot(t,data[sig]['processed'],col,label=name)\n",
    "    ax.set_ylabel(sig)\n",
    "\n",
    "\n",
    "    \n",
    "    ax = axarr[4,2]\n",
    "    sig = 'LSSDW_My'\n",
    "    ax.plot(t,data[sig]['processed'],col,label=name)\n",
    "    ax.set_ylabel(sig)\n",
    "\n",
    "\n",
    "    ax = axarr[5,2]\n",
    "    sig = 'LSSDW_Mz'\n",
    "    ax.plot(t,data[sig]['processed'],col,label=name)\n",
    "    ax.set_ylabel(sig)\n",
    "\n",
    "\n",
    "\n",
    "\n",
    "    \n",
    "    \n",
    "plt.show()"
   ]
  },
  {
   "cell_type": "code",
   "execution_count": 35,
   "metadata": {
    "collapsed": true
   },
   "outputs": [],
   "source": [
    "# Double time plot with loads\n",
    "## Make a first time series plot\n",
    "fig, axarr = plt.subplots(6,3,sharex='col')\n",
    "freqLim = [0.1, 10]\n",
    "\n",
    "colArray = ['b','g','r','m','c','k']\n",
    "\n",
    "for idx, (data, name) in enumerate(zip(dataArray,nameArray)):\n",
    "\n",
    "    #arLen = len(data['MSExcelTimestamp']['processed'])\n",
    "    Ts = 0.02\n",
    "    t = np.arange(0,10.*60.,Ts)\n",
    "    \n",
    "    if data['offset'] == 0:\n",
    "        col = colArray[idx]\n",
    "    elif data['offset'] == 25:\n",
    "        col = colArray[idx] + '-'\n",
    "    else:\n",
    "        col = colArray[idx] + '-'\n",
    "        \n",
    "    ax = axarr[0,0]\n",
    "    sig = 'WS1_90m'\n",
    "    ax.plot(t,data[sig]['processed'],col,label=name)\n",
    "    ax.set_ylabel(sig)\n",
    "    ax.legend()\n",
    "    \n",
    "    ax = axarr[1,0]\n",
    "    sig = 'WD1_87m'\n",
    "    ax.plot(t,data[sig]['processed'],col,label=name)\n",
    "    ax.set_ylabel(sig)\n",
    "\n",
    "    \n",
    "    ax = axarr[2,0]\n",
    "    sig = 'LidarOffset'\n",
    "    ax.plot(t,data[sig]['processed'],col,label=name)\n",
    "    ax.set_ylabel(sig)\n",
    "\n",
    "    \n",
    "    ax = axarr[3,0]\n",
    "    sig = 'WD_Nacelle'\n",
    "    ax.plot(t,data[sig]['processed'],col,label=name)\n",
    "    ax.set_ylabel(sig)\n",
    "\n",
    "\n",
    "    ax = axarr[4,0]\n",
    "    sig = 'Yaw_Encoder'\n",
    "    ax.plot(t,data[sig]['processed'],col,label=name)\n",
    "    ax.set_ylabel(sig)\n",
    "\n",
    "    ax = axarr[5,0]\n",
    "    sig = 'apparantVane'\n",
    "    ax.plot(t,data[sig]['processed'],col,label=name)\n",
    "    ax.axhline(np.mean(data[sig]['processed']),color=colArray[idx])\n",
    "    ax.set_ylabel(sig)\n",
    "    \n",
    "    ax = axarr[0,1]\n",
    "    sig = 'Pitch_Blade1'\n",
    "    f, Pxx_den = signal.welch(data[sig]['processed'],1.0/Ts,nperseg =2**13)\n",
    "    ax.loglog(f,Pxx_den,col, label=name)\n",
    "    ax.set_ylabel(sig)\n",
    "    ax.set_xlim(freqLim)\n",
    "    \n",
    "    \n",
    "    ax = axarr[1,1]\n",
    "    sig = 'ApparentPower'\n",
    "    f, Pxx_den = signal.welch(data[sig]['processed'],1.0/Ts,nperseg =2**13)\n",
    "    ax.loglog(f,Pxx_den,col, label=name)\n",
    "    ax.set_ylabel(sig)\n",
    "    ax.set_xlim(freqLim)\n",
    "   \n",
    "    ax = axarr[2,1]\n",
    "    sig = 'LSSDW_Tq'\n",
    "    f, Pxx_den = signal.welch(data[sig]['processed'],1.0/Ts,nperseg =2**13)\n",
    "    ax.loglog(f,Pxx_den,col, label=name)\n",
    "    ax.set_ylabel(sig)\n",
    "    ax.set_xlim(freqLim)\n",
    "    \n",
    "\n",
    "    ax = axarr[3,1]\n",
    "    sig = 'OPC_In_RotorSpd'\n",
    "    f, Pxx_den = signal.welch(data[sig]['processed'],1.0/Ts,nperseg =2**13)\n",
    "    ax.loglog(f,Pxx_den,col, label=name)\n",
    "    ax.set_ylabel(sig)\n",
    "    ax.set_xlim(freqLim)\n",
    "    \n",
    "    ax = axarr[4,1]\n",
    "    sig = 'BL1_FlapMom'\n",
    "    f, Pxx_den = signal.welch(data[sig]['processed'],1.0/Ts,nperseg =2**13)\n",
    "    ax.loglog(f,Pxx_den,col, label=name)\n",
    "    ax.set_ylabel(sig)\n",
    "    ax.set_xlim(freqLim)\n",
    "    \n",
    "    ax = axarr[5,1]\n",
    "    sig = 'BL1_EdgeMom'\n",
    "    f, Pxx_den = signal.welch(data[sig]['processed'],1.0/Ts,nperseg =2**13)\n",
    "    ax.loglog(f,Pxx_den,col, label=name)\n",
    "    ax.set_ylabel(sig)\n",
    "    ax.set_xlim(freqLim)\n",
    "    \n",
    "    \n",
    "    ax = axarr[0,2]\n",
    "    sig = 'TT_ForeAft'\n",
    "    f, Pxx_den = signal.welch(data[sig]['processed'],1.0/Ts,nperseg =2**13)\n",
    "    ax.loglog(f,Pxx_den,col, label=name)\n",
    "    ax.set_ylabel(sig)\n",
    "    ax.set_xlim(freqLim)\n",
    "\n",
    "    \n",
    "    ax = axarr[1,2]\n",
    "    sig = 'TT_SideSide'\n",
    "    f, Pxx_den = signal.welch(data[sig]['processed'],1.0/Ts,nperseg =2**13)\n",
    "    ax.loglog(f,Pxx_den,col, label=name)\n",
    "    ax.set_ylabel(sig)\n",
    "    ax.set_xlim(freqLim)\n",
    "    \n",
    "    ax = axarr[2,2]\n",
    "    sig = 'TB_ForeAft'\n",
    "    f, Pxx_den = signal.welch(data[sig]['processed'],1.0/Ts,nperseg =2**13)\n",
    "    ax.loglog(f,Pxx_den,col, label=name)\n",
    "    ax.set_ylabel(sig)\n",
    "    ax.set_xlim(freqLim)\n",
    "\n",
    "    \n",
    "    ax = axarr[3,2]\n",
    "    sig = 'TB_SideSide'\n",
    "    f, Pxx_den = signal.welch(data[sig]['processed'],1.0/Ts,nperseg =2**13)\n",
    "    ax.loglog(f,Pxx_den,col, label=name)\n",
    "    ax.set_ylabel(sig)\n",
    "    ax.set_xlim(freqLim)\n",
    "\n",
    "\n",
    "    \n",
    "    ax = axarr[4,2]\n",
    "    sig = 'LSSDW_My'\n",
    "    f, Pxx_den = signal.welch(data[sig]['processed'],1.0/Ts,nperseg =2**13)\n",
    "    ax.loglog(f,Pxx_den,col, label=name)\n",
    "    ax.set_ylabel(sig)\n",
    "    ax.set_xlim(freqLim)\n",
    "\n",
    "\n",
    "    ax = axarr[5,2]\n",
    "    sig = 'LSSDW_Mz'\n",
    "    f, Pxx_den = signal.welch(data[sig]['processed'],1.0/Ts,nperseg =2**13)\n",
    "    ax.loglog(f,Pxx_den,col, label=name)\n",
    "    ax.set_ylabel(sig)\n",
    "    ax.set_xlim(freqLim)\n",
    "\n",
    "\n",
    "\n",
    "    \n",
    "    \n",
    "plt.show()"
   ]
  },
  {
   "cell_type": "code",
   "execution_count": null,
   "metadata": {
    "collapsed": true
   },
   "outputs": [],
   "source": [
    "        f, Pxx_den = signal.welch(x[startIDX:],1.0/Ts,nperseg =2**13)\n",
    "        \n",
    "        if psdXlim:\n",
    "            mask = (f > psdXlim[0]) & (f < psdXlim[1])\n",
    "            axarr[1].loglog(f[mask],Pxx_den[mask],color = colors[fIdx])\n",
    "        else:\n",
    "            axarr[1].loglog(f,Pxx_den,color = colors[fIdx])"
   ]
  },
  {
   "cell_type": "code",
   "execution_count": null,
   "metadata": {
    "collapsed": true
   },
   "outputs": [],
   "source": []
  },
  {
   "cell_type": "code",
   "execution_count": null,
   "metadata": {
    "collapsed": true
   },
   "outputs": [],
   "source": []
  },
  {
   "cell_type": "code",
   "execution_count": null,
   "metadata": {
    "collapsed": true
   },
   "outputs": [],
   "source": []
  },
  {
   "cell_type": "code",
   "execution_count": null,
   "metadata": {
    "collapsed": true
   },
   "outputs": [],
   "source": []
  },
  {
   "cell_type": "code",
   "execution_count": null,
   "metadata": {
    "collapsed": true
   },
   "outputs": [],
   "source": []
  },
  {
   "cell_type": "code",
   "execution_count": null,
   "metadata": {
    "collapsed": true
   },
   "outputs": [],
   "source": []
  },
  {
   "cell_type": "code",
   "execution_count": 11,
   "metadata": {
    "collapsed": false
   },
   "outputs": [],
   "source": [
    "# Setup output\n",
    "outputFolder = os.path.join(rootFolder,'figures','kpiTotal_final')\n",
    "if not os.path.exists(outputFolder):\n",
    "    os.makedirs(outputFolder)"
   ]
  },
  {
   "cell_type": "code",
   "execution_count": 12,
   "metadata": {
    "collapsed": false
   },
   "outputs": [],
   "source": [
    "# Set up file list in rows and columns\n",
    "caseTuples = [[(c1,c2) for c2 in cases] for c1 in caseList]\n",
    "files = [[os.path.join(rootFolder,c1,c2,'Haliade_Run.out')  for c1,c2 in  r] for r in caseTuples]"
   ]
  },
  {
   "cell_type": "code",
   "execution_count": 13,
   "metadata": {
    "collapsed": true
   },
   "outputs": [],
   "source": [
    "# Process files one by one to save on memory"
   ]
  },
  {
   "cell_type": "code",
   "execution_count": 14,
   "metadata": {
    "collapsed": true
   },
   "outputs": [],
   "source": [
    "# Collect some data\n",
    "numCase = len(caseList)\n",
    "numSubCase  = len(cases)"
   ]
  },
  {
   "cell_type": "code",
   "execution_count": 18,
   "metadata": {
    "collapsed": false
   },
   "outputs": [
    {
     "name": "stdout",
     "output_type": "stream",
     "text": [
      "Y:\\Wind\\Confidential\\Projects\\Other\\Alstom\\FOA415_Topic2\\AdvancedFloatingControl\\SideSide_IPC_Damping\\KPI_RUNS\\case19\\Baseline\\Haliade_Run.out\n",
      "Y:\\Wind\\Confidential\\Projects\\Other\\Alstom\\FOA415_Topic2\\AdvancedFloatingControl\\SideSide_IPC_Damping\\KPI_RUNS\\case19\\IPC_50_Filt\\Haliade_Run.out\n",
      "Y:\\Wind\\Confidential\\Projects\\Other\\Alstom\\FOA415_Topic2\\AdvancedFloatingControl\\SideSide_IPC_Damping\\KPI_RUNS\\case19\\FC_half\\Haliade_Run.out\n",
      "Y:\\Wind\\Confidential\\Projects\\Other\\Alstom\\FOA415_Topic2\\AdvancedFloatingControl\\SideSide_IPC_Damping\\KPI_RUNS\\case19\\FC_one\\Haliade_Run.out\n",
      "Y:\\Wind\\Confidential\\Projects\\Other\\Alstom\\FOA415_Topic2\\AdvancedFloatingControl\\SideSide_IPC_Damping\\KPI_RUNS\\case19\\FC_two\\Haliade_Run.out\n",
      "Y:\\Wind\\Confidential\\Projects\\Other\\Alstom\\FOA415_Topic2\\AdvancedFloatingControl\\SideSide_IPC_Damping\\KPI_RUNS\\case24\\Baseline\\Haliade_Run.out\n",
      "Y:\\Wind\\Confidential\\Projects\\Other\\Alstom\\FOA415_Topic2\\AdvancedFloatingControl\\SideSide_IPC_Damping\\KPI_RUNS\\case24\\IPC_50_Filt\\Haliade_Run.out\n",
      "Y:\\Wind\\Confidential\\Projects\\Other\\Alstom\\FOA415_Topic2\\AdvancedFloatingControl\\SideSide_IPC_Damping\\KPI_RUNS\\case24\\FC_half\\Haliade_Run.out\n",
      "Y:\\Wind\\Confidential\\Projects\\Other\\Alstom\\FOA415_Topic2\\AdvancedFloatingControl\\SideSide_IPC_Damping\\KPI_RUNS\\case24\\FC_one\\Haliade_Run.out\n",
      "Y:\\Wind\\Confidential\\Projects\\Other\\Alstom\\FOA415_Topic2\\AdvancedFloatingControl\\SideSide_IPC_Damping\\KPI_RUNS\\case24\\FC_two\\Haliade_Run.out\n",
      "Y:\\Wind\\Confidential\\Projects\\Other\\Alstom\\FOA415_Topic2\\AdvancedFloatingControl\\SideSide_IPC_Damping\\KPI_RUNS\\case39\\Baseline\\Haliade_Run.out\n",
      "Y:\\Wind\\Confidential\\Projects\\Other\\Alstom\\FOA415_Topic2\\AdvancedFloatingControl\\SideSide_IPC_Damping\\KPI_RUNS\\case39\\IPC_50_Filt\\Haliade_Run.out\n",
      "Y:\\Wind\\Confidential\\Projects\\Other\\Alstom\\FOA415_Topic2\\AdvancedFloatingControl\\SideSide_IPC_Damping\\KPI_RUNS\\case39\\FC_half\\Haliade_Run.out\n",
      "Y:\\Wind\\Confidential\\Projects\\Other\\Alstom\\FOA415_Topic2\\AdvancedFloatingControl\\SideSide_IPC_Damping\\KPI_RUNS\\case39\\FC_one\\Haliade_Run.out\n",
      "Y:\\Wind\\Confidential\\Projects\\Other\\Alstom\\FOA415_Topic2\\AdvancedFloatingControl\\SideSide_IPC_Damping\\KPI_RUNS\\case39\\FC_two\\Haliade_Run.out\n",
      "Y:\\Wind\\Confidential\\Projects\\Other\\Alstom\\FOA415_Topic2\\AdvancedFloatingControl\\SideSide_IPC_Damping\\KPI_RUNS\\case26\\Baseline\\Haliade_Run.out\n",
      "Y:\\Wind\\Confidential\\Projects\\Other\\Alstom\\FOA415_Topic2\\AdvancedFloatingControl\\SideSide_IPC_Damping\\KPI_RUNS\\case26\\IPC_50_Filt\\Haliade_Run.out\n",
      "Y:\\Wind\\Confidential\\Projects\\Other\\Alstom\\FOA415_Topic2\\AdvancedFloatingControl\\SideSide_IPC_Damping\\KPI_RUNS\\case26\\FC_half\\Haliade_Run.out\n",
      "Y:\\Wind\\Confidential\\Projects\\Other\\Alstom\\FOA415_Topic2\\AdvancedFloatingControl\\SideSide_IPC_Damping\\KPI_RUNS\\case26\\FC_one\\Haliade_Run.out\n",
      "Y:\\Wind\\Confidential\\Projects\\Other\\Alstom\\FOA415_Topic2\\AdvancedFloatingControl\\SideSide_IPC_Damping\\KPI_RUNS\\case26\\FC_two\\Haliade_Run.out\n",
      "Y:\\Wind\\Confidential\\Projects\\Other\\Alstom\\FOA415_Topic2\\AdvancedFloatingControl\\SideSide_IPC_Damping\\KPI_RUNS\\case41\\Baseline\\Haliade_Run.out\n",
      "Y:\\Wind\\Confidential\\Projects\\Other\\Alstom\\FOA415_Topic2\\AdvancedFloatingControl\\SideSide_IPC_Damping\\KPI_RUNS\\case41\\IPC_50_Filt\\Haliade_Run.out\n",
      "Y:\\Wind\\Confidential\\Projects\\Other\\Alstom\\FOA415_Topic2\\AdvancedFloatingControl\\SideSide_IPC_Damping\\KPI_RUNS\\case41\\FC_half\\Haliade_Run.out\n",
      "Y:\\Wind\\Confidential\\Projects\\Other\\Alstom\\FOA415_Topic2\\AdvancedFloatingControl\\SideSide_IPC_Damping\\KPI_RUNS\\case41\\FC_one\\Haliade_Run.out\n",
      "Y:\\Wind\\Confidential\\Projects\\Other\\Alstom\\FOA415_Topic2\\AdvancedFloatingControl\\SideSide_IPC_Damping\\KPI_RUNS\\case41\\FC_two\\Haliade_Run.out\n",
      "Y:\\Wind\\Confidential\\Projects\\Other\\Alstom\\FOA415_Topic2\\AdvancedFloatingControl\\SideSide_IPC_Damping\\KPI_RUNS\\case27\\Baseline\\Haliade_Run.out\n",
      "Y:\\Wind\\Confidential\\Projects\\Other\\Alstom\\FOA415_Topic2\\AdvancedFloatingControl\\SideSide_IPC_Damping\\KPI_RUNS\\case27\\IPC_50_Filt\\Haliade_Run.out\n",
      "Y:\\Wind\\Confidential\\Projects\\Other\\Alstom\\FOA415_Topic2\\AdvancedFloatingControl\\SideSide_IPC_Damping\\KPI_RUNS\\case27\\FC_half\\Haliade_Run.out\n",
      "Y:\\Wind\\Confidential\\Projects\\Other\\Alstom\\FOA415_Topic2\\AdvancedFloatingControl\\SideSide_IPC_Damping\\KPI_RUNS\\case27\\FC_one\\Haliade_Run.out\n",
      "Y:\\Wind\\Confidential\\Projects\\Other\\Alstom\\FOA415_Topic2\\AdvancedFloatingControl\\SideSide_IPC_Damping\\KPI_RUNS\\case27\\FC_two\\Haliade_Run.out\n",
      "Y:\\Wind\\Confidential\\Projects\\Other\\Alstom\\FOA415_Topic2\\AdvancedFloatingControl\\SideSide_IPC_Damping\\KPI_RUNS\\case26\\Baseline\\Haliade_Run.out\n",
      "Y:\\Wind\\Confidential\\Projects\\Other\\Alstom\\FOA415_Topic2\\AdvancedFloatingControl\\SideSide_IPC_Damping\\KPI_RUNS\\case26\\IPC_50_Filt\\Haliade_Run.out\n",
      "Y:\\Wind\\Confidential\\Projects\\Other\\Alstom\\FOA415_Topic2\\AdvancedFloatingControl\\SideSide_IPC_Damping\\KPI_RUNS\\case26\\FC_half\\Haliade_Run.out\n",
      "Y:\\Wind\\Confidential\\Projects\\Other\\Alstom\\FOA415_Topic2\\AdvancedFloatingControl\\SideSide_IPC_Damping\\KPI_RUNS\\case26\\FC_one\\Haliade_Run.out\n",
      "Y:\\Wind\\Confidential\\Projects\\Other\\Alstom\\FOA415_Topic2\\AdvancedFloatingControl\\SideSide_IPC_Damping\\KPI_RUNS\\case26\\FC_two\\Haliade_Run.out\n",
      "Y:\\Wind\\Confidential\\Projects\\Other\\Alstom\\FOA415_Topic2\\AdvancedFloatingControl\\SideSide_IPC_Damping\\KPI_RUNS\\case15\\Baseline\\Haliade_Run.out\n",
      "Y:\\Wind\\Confidential\\Projects\\Other\\Alstom\\FOA415_Topic2\\AdvancedFloatingControl\\SideSide_IPC_Damping\\KPI_RUNS\\case15\\IPC_50_Filt\\Haliade_Run.out\n",
      "Y:\\Wind\\Confidential\\Projects\\Other\\Alstom\\FOA415_Topic2\\AdvancedFloatingControl\\SideSide_IPC_Damping\\KPI_RUNS\\case15\\FC_half\\Haliade_Run.out\n",
      "Y:\\Wind\\Confidential\\Projects\\Other\\Alstom\\FOA415_Topic2\\AdvancedFloatingControl\\SideSide_IPC_Damping\\KPI_RUNS\\case15\\FC_one\\Haliade_Run.out\n",
      "Y:\\Wind\\Confidential\\Projects\\Other\\Alstom\\FOA415_Topic2\\AdvancedFloatingControl\\SideSide_IPC_Damping\\KPI_RUNS\\case15\\FC_two\\Haliade_Run.out\n",
      "Y:\\Wind\\Confidential\\Projects\\Other\\Alstom\\FOA415_Topic2\\AdvancedFloatingControl\\SideSide_IPC_Damping\\KPI_RUNS\\case10\\Baseline\\Haliade_Run.out\n",
      "Y:\\Wind\\Confidential\\Projects\\Other\\Alstom\\FOA415_Topic2\\AdvancedFloatingControl\\SideSide_IPC_Damping\\KPI_RUNS\\case10\\IPC_50_Filt\\Haliade_Run.out\n",
      "Y:\\Wind\\Confidential\\Projects\\Other\\Alstom\\FOA415_Topic2\\AdvancedFloatingControl\\SideSide_IPC_Damping\\KPI_RUNS\\case10\\FC_half\\Haliade_Run.out\n",
      "Y:\\Wind\\Confidential\\Projects\\Other\\Alstom\\FOA415_Topic2\\AdvancedFloatingControl\\SideSide_IPC_Damping\\KPI_RUNS\\case10\\FC_one\\Haliade_Run.out\n",
      "Y:\\Wind\\Confidential\\Projects\\Other\\Alstom\\FOA415_Topic2\\AdvancedFloatingControl\\SideSide_IPC_Damping\\KPI_RUNS\\case10\\FC_two\\Haliade_Run.out\n",
      "Y:\\Wind\\Confidential\\Projects\\Other\\Alstom\\FOA415_Topic2\\AdvancedFloatingControl\\SideSide_IPC_Damping\\KPI_RUNS\\case22\\Baseline\\Haliade_Run.out\n",
      "Y:\\Wind\\Confidential\\Projects\\Other\\Alstom\\FOA415_Topic2\\AdvancedFloatingControl\\SideSide_IPC_Damping\\KPI_RUNS\\case22\\IPC_50_Filt\\Haliade_Run.out\n",
      "Y:\\Wind\\Confidential\\Projects\\Other\\Alstom\\FOA415_Topic2\\AdvancedFloatingControl\\SideSide_IPC_Damping\\KPI_RUNS\\case22\\FC_half\\Haliade_Run.out\n",
      "Y:\\Wind\\Confidential\\Projects\\Other\\Alstom\\FOA415_Topic2\\AdvancedFloatingControl\\SideSide_IPC_Damping\\KPI_RUNS\\case22\\FC_one\\Haliade_Run.out\n",
      "Y:\\Wind\\Confidential\\Projects\\Other\\Alstom\\FOA415_Topic2\\AdvancedFloatingControl\\SideSide_IPC_Damping\\KPI_RUNS\\case22\\FC_two\\Haliade_Run.out\n"
     ]
    }
   ],
   "source": [
    "# Load all the files\n",
    "# FSTs = [[readFASTOutput.readFASTOutput(f) for f in r] for r in files]\n",
    "\n",
    "# Compute time step and start time\n",
    "startTime = 500.0 # 100.0\n",
    "\n",
    "\n",
    "delarray = {}\n",
    "signalList = ['TwrBsMxt','TwrBsMyt','towMag','shaftBend','RootMyc1']\n",
    "mList = [4., 4., 4., 4., 10.]\n",
    "for s in signalList:\n",
    "    delarray[s] = np.zeros((numCase,numSubCase))\n",
    "\n",
    "\n",
    "for rIdx, r in enumerate(files):\n",
    "    for fIdx, f in enumerate(r):\n",
    "        print f\n",
    "        FST = readFASTOutput.readFASTOutput(f)\n",
    "        Ts = FST.time[1] - FST.time[0]\n",
    "        startIDX = startTime / Ts\n",
    "        # print case0.time[startIDX], Ts\n",
    "        units = FST.units\n",
    "        FST.data['towMag'] = np.sqrt(FST.data['TwrBsMxt']**2 + FST.data['TwrBsMyt']**2    )\n",
    "        FST.channels.append('towMag')\n",
    "        FST.units['towMag']='(kN-m)'\n",
    "        \n",
    "        FST.data['shaftBend'] = np.sqrt(FST.data['LSSTipMya']**2 + FST.data['LSSTipMza']**2    )\n",
    "        FST.channels.append('shaftBend')\n",
    "        FST.units['shaftBend']='(kN-m)'\n",
    "   \n",
    "        for s in signalList:\n",
    "            delarray[s][rIdx,fIdx] = computeDEL.computeDEL(FST.data[s][startIDX:],Ts,mList[fIdx])\n",
    "\n"
   ]
  },
  {
   "cell_type": "code",
   "execution_count": null,
   "metadata": {
    "collapsed": false
   },
   "outputs": [],
   "source": []
  },
  {
   "cell_type": "code",
   "execution_count": 46,
   "metadata": {
    "collapsed": false
   },
   "outputs": [],
   "source": [
    "def kpiCompare():\n",
    "\n",
    "\n",
    "\n",
    "    n_groups = numCase\n",
    "    s = signalName\n",
    "    del_0 = delarray[s][:,0]\n",
    "    del_1 = delarray[s][:,1]\n",
    "    del_2 = delarray[s][:,2]\n",
    "    del_3 = delarray[s][:,3]\n",
    "    del_4 = delarray[s][:,4]\n",
    "\n",
    "    p_0 = 0. * del_0\n",
    "    p_1 = 100.* (del_1 - del_0)/del_0\n",
    "    p_2 = 100.* (del_2 - del_0)/del_0\n",
    "    p_3 = 100.* (del_3 - del_0)/del_0\n",
    "    p_4 = 100.* (del_4 - del_0)/del_0\n",
    "    \n",
    "\n",
    "    fig, axarr = plt.subplots(1,2,figsize=(10,10),sharey=True)\n",
    "    index = -1 * np.arange(n_groups)\n",
    "    bar_width = 0.2\n",
    "    opacity = 0.4\n",
    "\n",
    "    rects1 = axarr[0].barh(index + 2* bar_width, del_0, bar_width,\n",
    "                     alpha=opacity,\n",
    "                     color='b',\n",
    "                     label=caseNames[0])\n",
    "    rects2 = axarr[0].barh(index  + bar_width, del_1, bar_width,\n",
    "                     alpha=opacity,\n",
    "                     color='g',\n",
    "                     label=caseNames[1])\n",
    "    rects3 = axarr[0].barh(index , del_2, bar_width,\n",
    "                     alpha=opacity,\n",
    "                     color=[0,0,0],\n",
    "                     label=caseNames[2])\n",
    "    rects4 = axarr[0].barh(index  - bar_width, del_3, bar_width,\n",
    "                     alpha=opacity,\n",
    "                     color='r',\n",
    "                     label=caseNames[3])\n",
    "    #rects5 = axarr[0].barh(index  - 2 *  bar_width, del_4, bar_width,\n",
    "    #                 alpha=opacity,\n",
    "    #                 color=[0.5,0.5,0.5],\n",
    "    #                 label=caseNames[4])\n",
    "\n",
    "    rects1 = axarr[1].barh(index + 2* bar_width, p_0, bar_width,\n",
    "                     alpha=opacity,\n",
    "                     color='b',\n",
    "                     label=caseNames[0])\n",
    "    rects2 = axarr[1].barh(index  + bar_width, p_1, bar_width,\n",
    "                     alpha=opacity,\n",
    "                     color='g',\n",
    "                     label=caseNames[1])\n",
    "    rects3 = axarr[1].barh(index , p_2, bar_width,\n",
    "                     alpha=opacity,\n",
    "                     color=[0,0,0],\n",
    "                     label=caseNames[2])\n",
    "    rects4 = axarr[1].barh(index  - bar_width, p_3, bar_width,\n",
    "                     alpha=opacity,\n",
    "                     color='r',\n",
    "                     label=caseNames[3])\n",
    "    #rects5 = axarr[1].barh(index  - 2 *  bar_width, p_4, bar_width,\n",
    "    #                 alpha=opacity,\n",
    "    #                 color=[0.5,0.5,0.5],\n",
    "    #                 label=caseNames[4])\n",
    "\n",
    "\n",
    "\n",
    "    axarr[0].set_yticks(index)\n",
    "    axarr[0].set_yticklabels(caseList,size=15)\n",
    "    axarr[0].set_xlabel(calc)\n",
    "    axarr[1].set_xlabel('% Change From Baseline')\n",
    "    axarr[0].set_title(signalName)\n",
    "    axarr[1].set_title(signalName)\n",
    "    plt.legend()\n",
    "    plt.tight_layout()\n",
    "\n",
    "    filename = os.path.join(outputFolder,signalName + '.png')   \n",
    "    fig.savefig(filename,dpi=300)"
   ]
  },
  {
   "cell_type": "code",
   "execution_count": 47,
   "metadata": {
    "collapsed": false
   },
   "outputs": [
    {
     "data": {
      "image/png": "[encoded data removed]",
      "text/plain": [
       "<matplotlib.figure.Figure at 0x82b4630>"
      ]
     },
     "metadata": {},
     "output_type": "display_data"
    }
   ],
   "source": [
    "# Compute DEL table for side-side\n",
    "signalName = 'TwrBsMxt'\n",
    "m = 4.\n",
    "calc = 'DEL'\n",
    "kpiCompare()"
   ]
  },
  {
   "cell_type": "code",
   "execution_count": 48,
   "metadata": {
    "collapsed": false
   },
   "outputs": [
    {
     "data": {
      "image/png": "[encoded data removed]",
      "text/plain": [
       "<matplotlib.figure.Figure at 0x82b4130>"
      ]
     },
     "metadata": {},
     "output_type": "display_data"
    }
   ],
   "source": [
    "# Compute DEL table for fore-aft\n",
    "signalName = 'TwrBsMyt'\n",
    "m = 4.\n",
    "calc = 'DEL'\n",
    "kpiCompare()"
   ]
  },
  {
   "cell_type": "code",
   "execution_count": 49,
   "metadata": {
    "collapsed": false
   },
   "outputs": [
    {
     "data": {
      "image/png": "[encoded data removed]",
      "text/plain": [
       "<matplotlib.figure.Figure at 0x728d470>"
      ]
     },
     "metadata": {},
     "output_type": "display_data"
    }
   ],
   "source": [
    "# Compute DEL table for tower mag\n",
    "signalName = 'towMag'\n",
    "m = 4.\n",
    "calc = 'DEL'\n",
    "kpiCompare()"
   ]
  },
  {
   "cell_type": "code",
   "execution_count": 50,
   "metadata": {
    "collapsed": false
   },
   "outputs": [
    {
     "data": {
      "image/png": "[encoded data removed]",
      "text/plain": [
       "<matplotlib.figure.Figure at 0xac94f50>"
      ]
     },
     "metadata": {},
     "output_type": "display_data"
    }
   ],
   "source": [
    "# Compute DEL table out-plange\n",
    "signalName = 'RootMyc1'\n",
    "m = 10.\n",
    "calc = 'DEL'\n",
    "kpiCompare()"
   ]
  },
  {
   "cell_type": "code",
   "execution_count": 51,
   "metadata": {
    "collapsed": false
   },
   "outputs": [
    {
     "data": {
      "image/png": "[encoded data removed]",
      "text/plain": [
       "<matplotlib.figure.Figure at 0x1127dc30>"
      ]
     },
     "metadata": {},
     "output_type": "display_data"
    }
   ],
   "source": [
    "# Compute DEL shaft bending\n",
    "signalName = 'shaftBend'\n",
    "m = 4.\n",
    "calc = 'DEL'\n",
    "kpiCompare()"
   ]
  },
  {
   "cell_type": "code",
   "execution_count": null,
   "metadata": {
    "collapsed": true
   },
   "outputs": [],
   "source": []
  },
  {
   "cell_type": "code",
   "execution_count": null,
   "metadata": {
    "collapsed": true
   },
   "outputs": [],
   "source": []
  },
  {
   "cell_type": "code",
   "execution_count": null,
   "metadata": {
    "collapsed": false
   },
   "outputs": [],
   "source": [
    "# Compute DEL rotor torque\n",
    "signalName = 'RotTorq'\n",
    "m = 4.\n",
    "calc = 'DEL'\n",
    "kpiCompare()"
   ]
  },
  {
   "cell_type": "code",
   "execution_count": 43,
   "metadata": {
    "collapsed": false
   },
   "outputs": [
    {
     "ename": "KeyError",
     "evalue": "'RootMxc1'",
     "output_type": "error",
     "traceback": [
      "\u001b[1;31m---------------------------------------------------------------------------\u001b[0m",
      "\u001b[1;31mKeyError\u001b[0m                                  Traceback (most recent call last)",
      "\u001b[1;32m<ipython-input-43-9cfcda349491>\u001b[0m in \u001b[0;36m<module>\u001b[1;34m()\u001b[0m\n\u001b[0;32m      3\u001b[0m \u001b[0mm\u001b[0m \u001b[1;33m=\u001b[0m \u001b[1;36m10.\u001b[0m\u001b[1;33m\u001b[0m\u001b[0m\n\u001b[0;32m      4\u001b[0m \u001b[0mcalc\u001b[0m \u001b[1;33m=\u001b[0m \u001b[1;34m'DEL'\u001b[0m\u001b[1;33m\u001b[0m\u001b[0m\n\u001b[1;32m----> 5\u001b[1;33m \u001b[0mkpiCompare\u001b[0m\u001b[1;33m(\u001b[0m\u001b[1;33m)\u001b[0m\u001b[1;33m\u001b[0m\u001b[0m\n\u001b[0m",
      "\u001b[1;32m<ipython-input-38-339d7527bbe1>\u001b[0m in \u001b[0;36mkpiCompare\u001b[1;34m()\u001b[0m\n\u001b[0;32m      5\u001b[0m     \u001b[0mn_groups\u001b[0m \u001b[1;33m=\u001b[0m \u001b[0mnumCase\u001b[0m\u001b[1;33m\u001b[0m\u001b[0m\n\u001b[0;32m      6\u001b[0m     \u001b[0ms\u001b[0m \u001b[1;33m=\u001b[0m \u001b[0msignalName\u001b[0m\u001b[1;33m\u001b[0m\u001b[0m\n\u001b[1;32m----> 7\u001b[1;33m     \u001b[0mdel_0\u001b[0m \u001b[1;33m=\u001b[0m \u001b[0mdelarray\u001b[0m\u001b[1;33m[\u001b[0m\u001b[0ms\u001b[0m\u001b[1;33m]\u001b[0m\u001b[1;33m[\u001b[0m\u001b[1;33m:\u001b[0m\u001b[1;33m,\u001b[0m\u001b[1;36m0\u001b[0m\u001b[1;33m]\u001b[0m\u001b[1;33m\u001b[0m\u001b[0m\n\u001b[0m\u001b[0;32m      8\u001b[0m     \u001b[0mdel_1\u001b[0m \u001b[1;33m=\u001b[0m \u001b[0mdelarray\u001b[0m\u001b[1;33m[\u001b[0m\u001b[0ms\u001b[0m\u001b[1;33m]\u001b[0m\u001b[1;33m[\u001b[0m\u001b[1;33m:\u001b[0m\u001b[1;33m,\u001b[0m\u001b[1;36m1\u001b[0m\u001b[1;33m]\u001b[0m\u001b[1;33m\u001b[0m\u001b[0m\n\u001b[0;32m      9\u001b[0m     \u001b[0mdel_2\u001b[0m \u001b[1;33m=\u001b[0m \u001b[0mdelarray\u001b[0m\u001b[1;33m[\u001b[0m\u001b[0ms\u001b[0m\u001b[1;33m]\u001b[0m\u001b[1;33m[\u001b[0m\u001b[1;33m:\u001b[0m\u001b[1;33m,\u001b[0m\u001b[1;36m2\u001b[0m\u001b[1;33m]\u001b[0m\u001b[1;33m\u001b[0m\u001b[0m\n",
      "\u001b[1;31mKeyError\u001b[0m: 'RootMxc1'"
     ]
    }
   ],
   "source": [
    "# Compute DEL table in-plange\n",
    "signalName = 'RootMxc1'\n",
    "m = 10.\n",
    "calc = 'DEL'\n",
    "kpiCompare()"
   ]
  },
  {
   "cell_type": "code",
   "execution_count": null,
   "metadata": {
    "collapsed": false
   },
   "outputs": [],
   "source": [
    "# Compute STD platform rolling\n",
    "signalName = 'PtfmRoll'\n",
    "m = 4.\n",
    "calc = 'STD'\n",
    "kpiCompare()"
   ]
  },
  {
   "cell_type": "code",
   "execution_count": null,
   "metadata": {
    "collapsed": false
   },
   "outputs": [],
   "source": [
    "# Compute STD platform pitching\n",
    "signalName = 'PtfmPitch'\n",
    "m = 4.\n",
    "calc = 'STD'\n",
    "kpiCompare()"
   ]
  },
  {
   "cell_type": "code",
   "execution_count": null,
   "metadata": {
    "collapsed": true
   },
   "outputs": [],
   "source": []
  },
  {
   "cell_type": "code",
   "execution_count": null,
   "metadata": {
    "collapsed": true
   },
   "outputs": [],
   "source": []
  }
 ],
 "metadata": {
  "kernelspec": {
   "display_name": "Python 2",
   "language": "python",
   "name": "python2"
  },
  "language_info": {
   "codemirror_mode": {
    "name": "ipython",
    "version": 2
   },
   "file_extension": ".py",
   "mimetype": "text/x-python",
   "name": "python",
   "nbconvert_exporter": "python",
   "pygments_lexer": "ipython2",
   "version": "2.7.10"
  }
 },
 "nbformat": 4,
 "nbformat_minor": 0
}
