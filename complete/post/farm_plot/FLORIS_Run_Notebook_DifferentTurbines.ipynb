{
 "cells": [
  {
   "cell_type": "markdown",
   "metadata": {},
   "source": [
    "# Examples for running FLORIS"
   ]
  },
  {
   "cell_type": "code",
   "execution_count": 1,
   "metadata": {},
   "outputs": [],
   "source": [
    "# load modules\n",
    "from floris.floris import Floris\n",
    "import numpy as np\n",
    "import matplotlib.pyplot as plt\n",
    "%matplotlib inline"
   ]
  },
  {
   "cell_type": "markdown",
   "metadata": {},
   "source": [
    "## Setup floris and process input file"
   ]
  },
  {
   "cell_type": "code",
   "execution_count": 2,
   "metadata": {
    "scrolled": false
   },
   "outputs": [],
   "source": [
    "floris = Floris(\"example_input.json\")"
   ]
  },
  {
   "cell_type": "markdown",
   "metadata": {},
   "source": [
    "## Calculate Wake"
   ]
  },
  {
   "cell_type": "code",
   "execution_count": 3,
   "metadata": {},
   "outputs": [
    {
     "name": "stdout",
     "output_type": "stream",
     "text": [
      "Time to compute wake =  0.012362957000732422 s\n"
     ]
    }
   ],
   "source": [
    "import time\n",
    "\n",
    "t1 = time.time()\n",
    "\n",
    "floris.farm.flow_field.calculate_wake()\n",
    "\n",
    "t2 = time.time()\n",
    "\n",
    "print('Time to compute wake = ', t2-t1, 's')"
   ]
  },
  {
   "cell_type": "markdown",
   "metadata": {},
   "source": [
    "## Compute Velocities at each Turbine"
   ]
  },
  {
   "cell_type": "code",
   "execution_count": 4,
   "metadata": {},
   "outputs": [
    {
     "name": "stdout",
     "output_type": "stream",
     "text": [
      "(0.0, 0.0):\n",
      "\tCp - 0.46328782548262326\n",
      "\tCt - 0.7661304442831962\n",
      "\tpower - 1712005.16797\n",
      "\tai - 0.258199692041\n",
      "\taverage velocity - 7.85065163365\n",
      "(800.0, 0.0):\n",
      "\tCp - 0.4591295490754733\n",
      "\tCt - 0.8126343857218721\n",
      "\tpower - 946340.407665\n",
      "\tai - 0.283571250594\n",
      "\taverage velocity - 6.46236809624\n",
      "(0.0, 630.0):\n",
      "\tCp - 0.46328782548262326\n",
      "\tCt - 0.7661304442831962\n",
      "\tpower - 1712005.16797\n",
      "\tai - 0.258199692041\n",
      "\taverage velocity - 7.85065163365\n",
      "(800.0, 630.0):\n",
      "\tCp - 0.4591295490754733\n",
      "\tCt - 0.8126343857218721\n",
      "\tpower - 946340.407665\n",
      "\tai - 0.283571250594\n",
      "\taverage velocity - 6.46236809624\n"
     ]
    }
   ],
   "source": [
    "for coord, turbine in floris.farm.turbine_map.items():\n",
    "    print(str(coord) + \":\")\n",
    "    print(\"\\tCp -\", turbine.Cp)\n",
    "    print(\"\\tCt -\", turbine.Ct)\n",
    "    print(\"\\tpower -\", turbine.power)\n",
    "    print(\"\\tai -\", turbine.aI)\n",
    "    print(\"\\taverage velocity -\", turbine.get_average_velocity())"
   ]
  },
  {
   "cell_type": "markdown",
   "metadata": {},
   "source": [
    "## Visualization Manager for FLORIS "
   ]
  },
  {
   "cell_type": "code",
   "execution_count": 5,
   "metadata": {},
   "outputs": [
    {
     "data": {
      "image/png": "[encoded data removed]",
      "text/plain": [
       "<matplotlib.figure.Figure at 0x10d2af0b8>"
      ]
     },
     "metadata": {},
     "output_type": "display_data"
    }
   ],
   "source": [
    "# Visualization\n",
    "from copy import deepcopy\n",
    "from floris.visualization import VisualizationManager\n",
    "\n",
    "ff_viz = deepcopy(floris.farm.flow_field)\n",
    "grid_resolution = (100, 100, 25)\n",
    "visualization_manager = VisualizationManager(ff_viz, grid_resolution)\n",
    "visualization_manager.plot_z_planes([0.5])\n",
    "#visualization_manager.plot_x_planes([0.5])"
   ]
  },
  {
   "cell_type": "markdown",
   "metadata": {},
   "source": [
    "## Incorporate Different Turbines"
   ]
  },
  {
   "cell_type": "code",
   "execution_count": 6,
   "metadata": {},
   "outputs": [],
   "source": [
    "for i,(coord, turbine) in enumerate(floris.farm.turbine_map.items()):\n",
    "    if i == 2 or i == 3:\n",
    "        turbine.rotor_diameter = 50.0\n",
    "        turbine.rotor_radius = turbine.rotor_diameter/2.\n",
    "        turbine.hub_height = 70.0\n",
    "        turbine.TSR = 7.0\n",
    "        \n",
    "        # note: these are the Cp/Ct tables for the NREL 5MW turbine.  \n",
    "        turbine.power_thrust_table[\"power\"] = [0.0,0.15643578,0.31287155,0.41306749,0.44895632,0.46155227,0.46330747,\n",
    "                                                   0.46316077,0.46316077,0.46280642,0.45223111,0.39353012,0.3424487,\n",
    "                                                   0.2979978, 0.25931677,0.22565665,0.19636572,0.17087684,0.1486965,\n",
    "                                                   0.12939524,0.11259934,0.0979836, 0.08526502,0.07419736,0.06456631,\n",
    "                                                   0.05618541,0.04889237,0.0]\n",
    "        turbine.power_thrust_table[\"thrust\"] = [1.10610965,1.09515807,1.0227122, 0.9196487, 0.85190470,0.80328229,0.76675469,\n",
    "                                                0.76209299,0.76209299,0.75083241,0.67210674,0.52188504,0.43178758,0.36443258,\n",
    "                                                0.31049874,0.26696686,0.22986909,0.19961578,0.17286245,0.15081457,0.13146666,\n",
    "                                                0.11475968,0.10129584,0.0880188, 0.07746819,0.06878621,0.05977061,0.0]\n",
    "        turbine.power_thrust_table[\"wind_speed\"] = [0.0,2.5,3.52338654,4.57015961, 5.61693268, 6.66370575, 7.71047882, 8.75725189,\n",
    "                                                    9.80402496,10.85079803,11.70448774,12.25970155,12.84125247,13.45038983,\n",
    "                                                    14.08842222,14.75672029,15.45671974,16.18992434,16.95790922,17.76232421,\n",
    "                                                    18.60489742,19.48743891,20.41184461,21.38010041,22.39428636,23.45658122,\n",
    "                                                    24.56926707,30.0]\n",
    "        \n",
    "floris.farm.flow_field.calculate_wake()"
   ]
  },
  {
   "cell_type": "markdown",
   "metadata": {},
   "source": [
    "## Visualize Different Turbines"
   ]
  },
  {
   "cell_type": "code",
   "execution_count": 7,
   "metadata": {},
   "outputs": [
    {
     "data": {
      "image/png": "[encoded data removed]",
      "text/plain": [
       "<matplotlib.figure.Figure at 0x1103d66d8>"
      ]
     },
     "metadata": {},
     "output_type": "display_data"
    }
   ],
   "source": [
    "ff_viz = deepcopy(floris.farm.flow_field)\n",
    "grid_resolution = (100, 100, 25)\n",
    "visualization_manager = VisualizationManager(ff_viz, grid_resolution)\n",
    "visualization_manager.plot_z_planes([0.5])\n",
    "#visualization_manager.plot_y_planes([0.5])"
   ]
  },
  {
   "cell_type": "markdown",
   "metadata": {
    "collapsed": true
   },
   "source": [
    "## Optimize Wind Farm using Wake Steering "
   ]
  },
  {
   "cell_type": "code",
   "execution_count": 8,
   "metadata": {},
   "outputs": [
    {
     "name": "stdout",
     "output_type": "stream",
     "text": [
      "Optimal yaw angles for:\n",
      "Turbine  0  yaw angle =  25.0\n",
      "Turbine  1  yaw angle =  0.0\n",
      "Turbine  2  yaw angle =  0.0\n",
      "Turbine  3  yaw angle =  0.0\n"
     ]
    }
   ],
   "source": [
    "from floris.optimization import wake_steering\n",
    "import numpy as np\n",
    "\n",
    "# run FLORIS with no yaw\n",
    "turbines    = [turbine for _, turbine in floris.farm.flow_field.turbine_map.items()]\n",
    "for k,turbine in enumerate(turbines):\n",
    "    turbine.yaw_angle = 0.0\n",
    "floris.farm.flow_field.calculate_wake()\n",
    "power_initial = np.sum([turbine.power for turbine in turbines])  # determine initial power production\n",
    "\n",
    "# number of turbines\n",
    "nTurbs = len(turbines)\n",
    "\n",
    "# set bounds for the optimization on the yaw angles (deg)\n",
    "minimum_yaw_angle = 0.0\n",
    "maximum_yaw_angle = 25.0\n",
    "\n",
    "# compute the optimal yaw angles\n",
    "opt_yaw_angles = wake_steering(floris,minimum_yaw_angle,maximum_yaw_angle)\n",
    "\n",
    "print('Optimal yaw angles for:')\n",
    "for i,yaw in enumerate(opt_yaw_angles):\n",
    "    print('Turbine ', i, ' yaw angle = ', np.degrees(yaw))"
   ]
  },
  {
   "cell_type": "markdown",
   "metadata": {},
   "source": [
    "## Calculate Power Gain"
   ]
  },
  {
   "cell_type": "code",
   "execution_count": 9,
   "metadata": {},
   "outputs": [
    {
     "name": "stdout",
     "output_type": "stream",
     "text": [
      "Power increased by  5.20812208492 %\n"
     ]
    }
   ],
   "source": [
    "# assign yaw angles to turbines\n",
    "turbines    = [turbine for _, turbine in floris.farm.flow_field.turbine_map.items()]\n",
    "for i,turbine in enumerate(turbines):\n",
    "    turbine.yaw_angle = opt_yaw_angles[i]\n",
    "    \n",
    "# compute the new wake with yaw angles\n",
    "floris.farm.flow_field.calculate_wake()\n",
    "\n",
    "# optimal power \n",
    "power_opt = np.sum([turbine.power for turbine in turbines]) \n",
    "\n",
    "print('Power increased by ', 100*(power_opt-power_initial)/power_initial, '%')"
   ]
  }
 ],
 "metadata": {
  "hide_input": false,
  "kernelspec": {
   "display_name": "floris",
   "language": "python",
   "name": "floris"
  },
  "language_info": {
   "codemirror_mode": {
    "name": "ipython",
    "version": 3
   },
   "file_extension": ".py",
   "mimetype": "text/x-python",
   "name": "python",
   "nbconvert_exporter": "python",
   "pygments_lexer": "ipython3",
   "version": "3.6.3"
  },
  "toc": {
   "nav_menu": {},
   "number_sections": false,
   "sideBar": true,
   "skip_h1_title": false,
   "toc_cell": false,
   "toc_position": {},
   "toc_section_display": "block",
   "toc_window_display": false
  },
  "varInspector": {
   "cols": {
    "lenName": 16,
    "lenType": 16,
    "lenVar": 40
   },
   "kernels_config": {
    "python": {
     "delete_cmd_postfix": "",
     "delete_cmd_prefix": "del ",
     "library": "var_list.py",
     "varRefreshCmd": "print(var_dic_list())"
    },
    "r": {
     "delete_cmd_postfix": ") ",
     "delete_cmd_prefix": "rm(",
     "library": "var_list.r",
     "varRefreshCmd": "cat(var_dic_list()) "
    }
   },
   "types_to_exclude": [
    "module",
    "function",
    "builtin_function_or_method",
    "instance",
    "_Feature"
   ],
   "window_display": false
  }
 },
 "nbformat": 4,
 "nbformat_minor": 2
}
